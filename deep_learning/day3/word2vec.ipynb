{
  "nbformat": 4,
  "nbformat_minor": 0,
  "metadata": {
    "colab": {
      "name": "word2vec.ipynb",
      "provenance": [],
      "collapsed_sections": [],
      "authorship_tag": "ABX9TyOb6mbfkLIHcPiFIABjz4Oa",
      "include_colab_link": true
    },
    "kernelspec": {
      "name": "python3",
      "display_name": "Python 3"
    }
  },
  "cells": [
    {
      "cell_type": "markdown",
      "metadata": {
        "id": "view-in-github",
        "colab_type": "text"
      },
      "source": [
        "<a href=\"https://colab.research.google.com/github/peta-m175/rabbit_challenge/blob/master/deep_learning/day3/word2vec.ipynb\" target=\"_parent\"><img src=\"https://colab.research.google.com/assets/colab-badge.svg\" alt=\"Open In Colab\"/></a>"
      ]
    },
    {
      "cell_type": "markdown",
      "metadata": {
        "id": "dtvNJ2XP8rU9"
      },
      "source": [
        "# wod2vec"
      ]
    },
    {
      "cell_type": "markdown",
      "metadata": {
        "id": "NOymVjAg8t60"
      },
      "source": [
        "RNNでの課題:単語のような可変長の文字列をNNに与えることはできない\\\n",
        "-> 固定長形式で単語を表す必要がある"
      ]
    },
    {
      "cell_type": "markdown",
      "metadata": {
        "id": "AUUQFwtI9AgE"
      },
      "source": [
        "学習データからボキャブラリを作成\\\n",
        "※わかりやすく7語のボキャブラリを作成したら本来は、辞書の単語数だけできあがる\n",
        "\n",
        "Ex) I want to eat apples. I like apples.\\\n",
        "{apples,eat,I,like,to,want}"
      ]
    },
    {
      "cell_type": "markdown",
      "metadata": {
        "id": "ZIfQuJik9glL"
      },
      "source": [
        "- メリット\\\n",
        "  大規模データの分散表現の学習が、現実的な計算速度とメモリ量で実現可能"
      ]
    }
  ]
}