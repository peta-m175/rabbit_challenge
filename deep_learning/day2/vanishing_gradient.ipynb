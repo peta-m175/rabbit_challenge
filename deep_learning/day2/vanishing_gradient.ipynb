{
  "nbformat": 4,
  "nbformat_minor": 0,
  "metadata": {
    "colab": {
      "name": "vanishing_gradient.ipynb",
      "provenance": [],
      "collapsed_sections": [],
      "authorship_tag": "ABX9TyMbAGKw7SGP55rrfPhx6KdN",
      "include_colab_link": true
    },
    "kernelspec": {
      "name": "python3",
      "display_name": "Python 3"
    }
  },
  "cells": [
    {
      "cell_type": "markdown",
      "metadata": {
        "id": "view-in-github",
        "colab_type": "text"
      },
      "source": [
        "<a href=\"https://colab.research.google.com/github/peta-m175/rabbit_challenge/blob/master/deep_learning/day2/vanishing_gradient.ipynb\" target=\"_parent\"><img src=\"https://colab.research.google.com/assets/colab-badge.svg\" alt=\"Open In Colab\"/></a>"
      ]
    },
    {
      "cell_type": "markdown",
      "metadata": {
        "id": "SNKlHUKb4Kjr"
      },
      "source": [
        "# 勾配消失問題"
      ]
    },
    {
      "cell_type": "markdown",
      "metadata": {
        "id": "usmpVEfy4O8k"
      },
      "source": [
        "誤差逆伝播法が下位層（後半）に進んでいくに連れて、勾配がどんどん緩やかになっていく。\n",
        "\n",
        "そのため、勾配降下法による、更新では下位層のパラメータはほとんど変わらず、訓練は最適値に収束しなくなる"
      ]
    },
    {
      "cell_type": "markdown",
      "metadata": {
        "id": "PGVpnP7cn2H3"
      },
      "source": [
        "### 勾配消失問題のビジョン"
      ]
    },
    {
      "cell_type": "markdown",
      "metadata": {
        "id": "69BU3ZWPp9DH"
      },
      "source": [
        "シグモイド関数の最大値が0.5のため、勾配を重ねる(掛け合わせる)度、学習率の増加は小さくなる。"
      ]
    },
    {
      "cell_type": "markdown",
      "metadata": {
        "id": "FGiotJw8qZjX"
      },
      "source": [
        "## 勾配消失の解決方"
      ]
    },
    {
      "cell_type": "markdown",
      "metadata": {
        "id": "b0wRtf9JqnEf"
      },
      "source": [
        "### 活性化関数の選択"
      ]
    },
    {
      "cell_type": "markdown",
      "metadata": {
        "id": "TRyr7ItGqvBw"
      },
      "source": [
        "#### Relu関数"
      ]
    },
    {
      "cell_type": "markdown",
      "metadata": {
        "id": "ZjWFeaiKrshC"
      },
      "source": [
        "勾配消失問題の回避とスパース化に貢献することで良い成果をもたらす。\n",
        "$$\n",
        "f(x)= \\begin{cases}\n",
        "    x~~~(x>0) \\\\\n",
        "    0~~~(x\\le0)\n",
        "  \\end{cases}\n",
        "$$\n",
        "```\n",
        "def relu(x):\n",
        "  return np.maximum(0, x)\n",
        "```"
      ]
    },
    {
      "cell_type": "code",
      "metadata": {
        "colab": {
          "base_uri": "https://localhost:8080/",
          "height": 269
        },
        "id": "NmCfzmhBtd-i",
        "outputId": "2ec0c800-c357-48d6-a2eb-793effa90992"
      },
      "source": [
        "import numpy as np\n",
        "import matplotlib.pyplot as plt\n",
        "\n",
        "def relu(x):\n",
        "  return np.maximum(0, x)\n",
        "\n",
        "x = np.arange(-5, 6, 1)\n",
        "y = relu(x)\n",
        "plt.plot(x,y)\n",
        "plt.xlim(-6, 6)\n",
        "plt.ylim(-1, 6)\n",
        "plt.show()"
      ],
      "execution_count": null,
      "outputs": [
        {
          "output_type": "display_data",
          "data": {
            "image/png": "[encoded data removed]",
            "text/plain": [
              "<Figure size 432x288 with 1 Axes>"
            ]
          },
          "metadata": {
            "tags": [],
            "needs_background": "light"
          }
        }
      ]
    },
    {
      "cell_type": "markdown",
      "metadata": {
        "id": "xNDp_RjFqplH"
      },
      "source": [
        "### 重みの初期値設定"
      ]
    },
    {
      "cell_type": "markdown",
      "metadata": {
        "id": "R5bTXqBQrGqo"
      },
      "source": [
        "#### Xavier"
      ]
    },
    {
      "cell_type": "markdown",
      "metadata": {
        "id": "thIzGXkbraTx"
      },
      "source": [
        "- 初期値を設定する際の活性化関数\n",
        "  - Relu関数\n",
        "  - シグモイド（ロジスティック）関数\n",
        "  - 双曲線正接関数\n",
        "- 設定方法\n",
        "  - 重みの要素を、前の層のノード数の平方根で除算した値\n",
        "  ```\n",
        "  # Xavierの初期値\n",
        "    network['W1'] = np.random.randn(input_layer_size, hidden_layer_1_size) / (np.sqrt(input_layer_size))\n",
        "    network['W2'] = np.random.randn(hidden_layer_1_size, hidden_layer_2_size) / (np.sqrt(hidden_layer_1_size))\n",
        "    ```"
      ]
    },
    {
      "cell_type": "markdown",
      "metadata": {
        "id": "olhKFPeyrIrI"
      },
      "source": [
        "#### He"
      ]
    },
    {
      "cell_type": "markdown",
      "metadata": {
        "id": "PFDpNiBbrQXx"
      },
      "source": [
        "- 初期値を設定する際の活性化関数\n",
        "  - Relu関数\n",
        "- 設定方法\n",
        "  - 重みの要素を、前の層のノード数の平方根で除算した値に対し√２をかけ合わせた値\n",
        "  ```\n",
        "    # Heの初期値\n",
        "    network['W1'] = np.random.randn(input_layer_size, hidden_layer_1_size) / np.sqrt(input_layer_size) * np.sqrt(2)\n",
        "    network['W2'] = np.random.randn(hidden_layer_1_size, hidden_layer_2_size) / np.sqrt(hidden_layer_1_size) * np.sqrt(2)\n",
        "  ```"
      ]
    },
    {
      "cell_type": "markdown",
      "metadata": {
        "id": "G885j0t8qrtH"
      },
      "source": [
        "### バッチ正規化"
      ]
    },
    {
      "cell_type": "markdown",
      "metadata": {
        "id": "CH2EtaShrLxZ"
      },
      "source": [
        "- ミニバッチ単位で、入力値のデータの偏りを抑制する手法\n",
        "- 2015年頃に提唱され、多くの論文で利用される。\n",
        "\n",
        "使いどころ\n",
        "- 活性化関数に値を渡す前後に、バッチ正規化の処理を孕んだ層を加える\n"
      ]
    },
    {
      "cell_type": "markdown",
      "metadata": {
        "id": "KYROb1sfOKDd"
      },
      "source": [
        "1. \n",
        "$$\n",
        "\\mu_t =\\frac{1}{N_t}\\sum_{i=1}^{N_t}x_{ni}\n",
        "$$\n",
        "2. \n",
        "$$\n",
        "\\sigma_t^2= \\frac{1}{N_t}\\sum_{i=1}^{N_t}(x_{ni}-=mu_t)^2\n",
        "$$\n",
        "3. \n",
        "$$\n",
        "\\hat{x}_{ni}=\\frac{x_{ni}-\\mu_t}{\\sqrt{\\sigma_t^2+\\theta}}\n",
        "$$\n",
        "4. \n",
        "$$\n",
        "y_{ni}=\\gamma x_{ni}+\\beta\n",
        "$$\n",
        "- $\\mu_t$:ミニバッチ$t$全体の平均\n",
        "- $\\sigma_t^2$:ミニバッチ$t$全体の標準偏差\n",
        "- $N_t$:ミニバッチのインデックス\n",
        "- $\\hat{x}_{ni}$:0に値を近づける計算(0を中心とするセンタリング)と正規化を施した値\n",
        "- $\\gamma$:スケーリングパラメータ\n",
        "- $\\beta$:シフトパラメータ\n",
        "- $y_{ni}$:ミニバッチのインデックス値とスケーリングの積にシフトを加算した値(バッチ正規化オペレーションの出力)"
      ]
    },
    {
      "cell_type": "markdown",
      "metadata": {
        "id": "js2OSPdFJP2V"
      },
      "source": [
        "## 確認テスト"
      ]
    },
    {
      "cell_type": "markdown",
      "metadata": {
        "id": "9eWd8CV-JUBs"
      },
      "source": [
        "### P.13"
      ]
    },
    {
      "cell_type": "markdown",
      "metadata": {
        "id": "6YirvV0SJWhG"
      },
      "source": [
        "- Q: 連鎖律の原理を使い、$\\frac{d z}{d x}$を求めよ\n",
        "$$\n",
        "z = t^2\\\\\n",
        "t = x+y\n",
        "$$\n",
        "- A:\n",
        "$$\n",
        "\\frac{d z}{d x} = 2t \\cdot 1 = 2t=2(x+y)\\\\\n",
        "\\frac{d z}{d x}=\\frac{d z}{d t}\\frac{d t}{d x}\\\\\n",
        "z=t^2 \\\\\n",
        "t=x+y\\\\\n",
        "\\frac{d z}{d t}=2t \\\\\n",
        "\\frac{d t}{d x}=1\n",
        "$$\n"
      ]
    },
    {
      "cell_type": "markdown",
      "metadata": {
        "id": "_K8aWewkjHox"
      },
      "source": [
        "### P.20"
      ]
    },
    {
      "cell_type": "markdown",
      "metadata": {
        "id": "fN6sB3mNjKWh"
      },
      "source": [
        "- Q: シグモイド関数を微分した時、入力値が0の時に最大値をとる。その値として正しいものを選択肢から選べ。\n",
        "  1. 0.15\n",
        "  2. 0.25\n",
        "  3. 0.35\n",
        "  4. 0.45\n",
        "- A: 2\n",
        "\n",
        "  シグモイド関数の最大値は0.5($x=0$のとき)\n",
        "\n",
        "  シグモイド関数\n",
        "  $$\n",
        "  \\varsigma_a(x)=\\frac{1}{1+\\exp^{-u}}\n",
        "  $$\n",
        "  のため、これを微分し導関数がわかる。\n",
        "  $$\n",
        "  \\varsigma_a'(x)=\\frac{a\\exp^{-ax}}{(1+\\exp^{-ax})}=a\\varsigma_a(x)\\{1-\\varsigma_a(x)\\}\n",
        "  $$\n",
        "  ここでは標準シグモイド関数の為、$a=1$とする。\n",
        "\n",
        "  よって\n",
        "  $$\n",
        "  \\varsigma_1'(x)=(1-0.5)\\cdot 0.5 = 0.25\n",
        "  $$\n",
        "\n",
        "\n"
      ]
    },
    {
      "cell_type": "markdown",
      "metadata": {
        "id": "1TE6L1IVq4fQ"
      },
      "source": [
        "### P.28"
      ]
    },
    {
      "cell_type": "markdown",
      "metadata": {
        "id": "kscHnkyMq7Tw"
      },
      "source": [
        "- Q: 重みの初期値に0を設定すると、どのような問題が発生するか。簡潔に説明せよ。\n",
        "- A: バイアスが変動なく伝わるため、誤差の最小化のために行うパラメータのチューニングができなくなる。"
      ]
    },
    {
      "cell_type": "markdown",
      "metadata": {
        "id": "Lc2I3lrgsF3D"
      },
      "source": [
        "### P.31"
      ]
    },
    {
      "cell_type": "markdown",
      "metadata": {
        "id": "PHM8cfdfsJ_L"
      },
      "source": [
        "- Q: 一般的に考えられるバッチ正規化の効果を2点挙げよ。\n",
        "- A: \n",
        "  1. 大きな学習係数が使える\n",
        "    - これまでは、学習係数を上げるとパラメータのscaleの問題によって、勾配消失・爆発する。\n",
        "      \n",
        "      伝播中パラメータのscaleに影響を受けなくなる。結果的に学習係数を上げることができ、学習の収束速度が向上する。\n",
        "  2. 正則化効果がある\n",
        "    - これまでの正則化テクニックを不要にできるという議論がある。\n",
        "      - L2正則化の必要性が下がる\n",
        "      - Dropoutの必要性が下がる\n",
        "        - Dropoutは、過学習を抑える働きがあるが学習速度が遅くなる"
      ]
    },
    {
      "cell_type": "markdown",
      "metadata": {
        "id": "qfA_39dYmPAA"
      },
      "source": [
        "## 演習"
      ]
    },
    {
      "cell_type": "markdown",
      "metadata": {
        "id": "h6_Knu4dmSug"
      },
      "source": [
        "https://colab.research.google.com/github/peta-m175/rabbit_challenge/blob/master/deep_learning/day2/exercises/2_2_2_vanishing_gradient_modified.ipynb"
      ]
    }
  ]
}