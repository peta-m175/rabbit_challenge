{
  "nbformat": 4,
  "nbformat_minor": 0,
  "metadata": {
    "kernelspec": {
      "name": "python3",
      "display_name": "Python 3"
    },
    "language_info": {
      "codemirror_mode": {
        "name": "ipython",
        "version": 3
      },
      "file_extension": ".py",
      "mimetype": "text/x-python",
      "name": "python",
      "nbconvert_exporter": "python",
      "pygments_lexer": "ipython3",
      "version": "3.6.3"
    },
    "colab": {
      "name": "2_6_simple_convolution_network.ipynb",
      "provenance": [],
      "collapsed_sections": [],
      "include_colab_link": true
    },
    "accelerator": "GPU"
  },
  "cells": [
    {
      "cell_type": "markdown",
      "metadata": {
        "id": "view-in-github",
        "colab_type": "text"
      },
      "source": [
        "<a href=\"https://colab.research.google.com/github/peta-m175/rabbit_challenge/blob/master/deep_learning/day2/exercises/2_6_simple_convolution_network.ipynb\" target=\"_parent\"><img src=\"https://colab.research.google.com/assets/colab-badge.svg\" alt=\"Open In Colab\"/></a>"
      ]
    },
    {
      "cell_type": "markdown",
      "metadata": {
        "id": "8cNl2QA_Rnv5"
      },
      "source": [
        "# 準備"
      ]
    },
    {
      "cell_type": "markdown",
      "metadata": {
        "id": "YkwjN1jNVAYy"
      },
      "source": [
        "## Googleドライブのマウント"
      ]
    },
    {
      "cell_type": "code",
      "metadata": {
        "id": "pvFXpiH3EVC1",
        "colab": {
          "base_uri": "https://localhost:8080/"
        },
        "outputId": "66d858c9-d691-47a9-9480-97cf78c95eec"
      },
      "source": [
        "from google.colab import drive\n",
        "drive.mount('/content/drive')"
      ],
      "execution_count": null,
      "outputs": [
        {
          "output_type": "stream",
          "text": [
            "Drive already mounted at /content/drive; to attempt to forcibly remount, call drive.mount(\"/content/drive\", force_remount=True).\n"
          ],
          "name": "stdout"
        }
      ]
    },
    {
      "cell_type": "markdown",
      "metadata": {
        "id": "3Ub7RYdeY6pK"
      },
      "source": [
        "## sys.pathの設定"
      ]
    },
    {
      "cell_type": "markdown",
      "metadata": {
        "id": "oql7L19rEsWi"
      },
      "source": [
        "以下では，Googleドライブのマイドライブ直下にDNN_codeフォルダを置くことを仮定しています．必要に応じて，パスを変更してください．"
      ]
    },
    {
      "cell_type": "code",
      "metadata": {
        "id": "7Ic2JzkvFX59"
      },
      "source": [
        "import sys\n",
        "sys.path.append('/content/drive/My Drive/rabbit_challenge/DNN_code_colab_ver200425')"
      ],
      "execution_count": null,
      "outputs": []
    },
    {
      "cell_type": "markdown",
      "metadata": {
        "id": "77mUsKgs41aZ"
      },
      "source": [
        "# simple convolution network"
      ]
    },
    {
      "cell_type": "markdown",
      "metadata": {
        "id": "CZDjmllG41aa"
      },
      "source": [
        "## image to column"
      ]
    },
    {
      "cell_type": "code",
      "metadata": {
        "id": "GFbg8ow141ab"
      },
      "source": [
        "import pickle\n",
        "import numpy as np\n",
        "from collections import OrderedDict\n",
        "from common import layers\n",
        "from common import optimizer\n",
        "from data.mnist import load_mnist\n",
        "import matplotlib.pyplot as plt\n",
        "\n",
        "# 画像データを２次元配列に変換\n",
        "'''\n",
        "input_data: 入力値\n",
        "filter_h: フィルターの高さ\n",
        "filter_w: フィルターの横幅\n",
        "stride: ストライド\n",
        "pad: パディング\n",
        "transpose: 処理確認用 transposeを実行するか\n",
        "'''\n",
        "def im2col(input_data, filter_h, filter_w, stride=1, pad=0, transpose=True):\n",
        "    # N: number, C: channel, H: height, W: width\n",
        "    N, C, H, W = input_data.shape\n",
        "    out_h = (H + 2 * pad - filter_h)//stride + 1\n",
        "    out_w = (W + 2 * pad - filter_w)//stride + 1\n",
        "\n",
        "    img = np.pad(input_data, [(0,0), (0,0), (pad, pad), (pad, pad)], 'constant')\n",
        "    col = np.zeros((N, C, filter_h, filter_w, out_h, out_w))\n",
        "\n",
        "    for y in range(filter_h):\n",
        "        y_max = y + stride * out_h\n",
        "        for x in range(filter_w):\n",
        "            x_max = x + stride * out_w\n",
        "            col[:, :, y, x, :, :] = img[:, :, y:y_max:stride, x:x_max:stride]\n",
        "    if transpose:\n",
        "        col = col.transpose(0, 4, 5, 1, 2, 3) # (N, C, filter_h, filter_w, out_h, out_w) -> (N, filter_w, out_h, out_w, C, filter_h)    \n",
        "    \n",
        "    col = col.reshape(N * out_h * out_w, -1)\n",
        "    return col"
      ],
      "execution_count": null,
      "outputs": []
    },
    {
      "cell_type": "markdown",
      "metadata": {
        "id": "aahFoRM941ae"
      },
      "source": [
        "----------------------------------------------------------------------------------------------------------------------------------------------------------------------------\n",
        "## [try] im2colの処理を確認しよう\n",
        "・関数内でtransposeの処理をしている行をコメントアウトして下のコードを実行してみよう<br>\n",
        "・input_dataの各次元のサイズやフィルターサイズ・ストライド・パディングを変えてみよう\n",
        "\n",
        "----------------------------------------------------------------------------------------------------------------------------------------------------------------------------"
      ]
    },
    {
      "cell_type": "code",
      "metadata": {
        "id": "Vd5NPF_641af",
        "colab": {
          "base_uri": "https://localhost:8080/"
        },
        "outputId": "7aed6003-7391-470f-d350-3afc5a452f9d"
      },
      "source": [
        "# im2colの処理確認\n",
        "input_data = np.random.rand(2, 1, 4, 4)*100//1 # number, channel, height, widthを表す\n",
        "print('========== input_data ===========\\n', input_data)\n",
        "print('==============================')\n",
        "filter_h = 2\n",
        "filter_w = 2\n",
        "stride = 1\n",
        "pad = 0\n",
        "col = im2col(input_data, filter_h=filter_h, filter_w=filter_w, stride=stride, pad=pad, transpose=False)\n",
        "print('============= col ==============\\n', col)\n",
        "print('==============================')"
      ],
      "execution_count": null,
      "outputs": [
        {
          "output_type": "stream",
          "text": [
            "========== input_data ===========\n",
            " [[[[83. 43. 76.  3.]\n",
            "   [23. 44. 99. 33.]\n",
            "   [64.  4. 20. 86.]\n",
            "   [57. 33. 47. 99.]]]\n",
            "\n",
            "\n",
            " [[[99. 50.  7. 35.]\n",
            "   [26. 52. 61. 87.]\n",
            "   [70. 12. 37. 72.]\n",
            "   [40. 52. 86. 30.]]]]\n",
            "==============================\n",
            "============= col ==============\n",
            " [[83. 43. 76. 23.]\n",
            " [44. 99. 64.  4.]\n",
            " [20. 43. 76.  3.]\n",
            " [44. 99. 33.  4.]\n",
            " [20. 86. 23. 44.]\n",
            " [99. 64.  4. 20.]\n",
            " [57. 33. 47. 44.]\n",
            " [99. 33.  4. 20.]\n",
            " [86. 33. 47. 99.]\n",
            " [99. 50.  7. 26.]\n",
            " [52. 61. 70. 12.]\n",
            " [37. 50.  7. 35.]\n",
            " [52. 61. 87. 12.]\n",
            " [37. 72. 26. 52.]\n",
            " [61. 70. 12. 37.]\n",
            " [40. 52. 86. 52.]\n",
            " [61. 87. 12. 37.]\n",
            " [72. 52. 86. 30.]]\n",
            "==============================\n"
          ],
          "name": "stdout"
        }
      ]
    },
    {
      "cell_type": "markdown",
      "metadata": {
        "id": "azeUAMll41ai"
      },
      "source": [
        "## column to image"
      ]
    },
    {
      "cell_type": "code",
      "metadata": {
        "id": "sEg1ZgGH41aj"
      },
      "source": [
        "# ２次元配列を画像データに変換\n",
        "def col2im(col, input_shape, filter_h, filter_w, stride=1, pad=0):\n",
        "    # N: number, C: channel, H: height, W: width\n",
        "    N, C, H, W = input_shape\n",
        "    # 切り捨て除算    \n",
        "    out_h = (H + 2 * pad - filter_h)//stride + 1\n",
        "    out_w = (W + 2 * pad - filter_w)//stride + 1\n",
        "    col = col.reshape(N, out_h, out_w, C, filter_h, filter_w).transpose(0, 3, 4, 5, 1, 2) # (N, filter_h, filter_w, out_h, out_w, C)\n",
        "\n",
        "    img = np.zeros((N, C, H + 2 * pad + stride - 1, W + 2 * pad + stride - 1))\n",
        "    for y in range(filter_h):\n",
        "        y_max = y + stride * out_h\n",
        "        for x in range(filter_w):\n",
        "            x_max = x + stride * out_w\n",
        "            img[:, :, y:y_max:stride, x:x_max:stride] += col[:, :, y, x, :, :]\n",
        "\n",
        "    return img[:, :, pad:H + pad, pad:W + pad]"
      ],
      "execution_count": null,
      "outputs": []
    },
    {
      "cell_type": "markdown",
      "metadata": {
        "id": "WxIB8_ij41al"
      },
      "source": [
        "## col2imの処理を確認しよう\n",
        "・im2colの確認で出力したcolをimageに変換して確認しよう"
      ]
    },
    {
      "cell_type": "code",
      "metadata": {
        "id": "oWlAPpX_41am",
        "colab": {
          "base_uri": "https://localhost:8080/"
        },
        "outputId": "9c2a0733-4ab8-4272-e274-27ff20d3d737"
      },
      "source": [
        "img = col2im(col, input_shape=input_data.shape, filter_h=filter_h, filter_w=filter_w, stride=stride, pad=pad)\n",
        "print(img)"
      ],
      "execution_count": null,
      "outputs": [
        {
          "output_type": "stream",
          "text": [
            "[[[[ 83.  87. 119.  43.]\n",
            "   [120. 206. 265.  67.]\n",
            "   [ 90. 159. 167.  53.]\n",
            "   [ 47.  48.  67.  99.]]]\n",
            "\n",
            "\n",
            " [[[ 99. 102.  98.  50.]\n",
            "   [ 59. 194. 152. 105.]\n",
            "   [127. 151. 223.  89.]\n",
            "   [ 86.  64. 123.  30.]]]]\n"
          ],
          "name": "stdout"
        }
      ]
    },
    {
      "cell_type": "markdown",
      "metadata": {
        "id": "c6A1wrTW41ao"
      },
      "source": [
        "## convolution class"
      ]
    },
    {
      "cell_type": "code",
      "metadata": {
        "id": "V48pgjoe41ap"
      },
      "source": [
        "class Convolution:\n",
        "    # W: フィルター, b: バイアス\n",
        "    def __init__(self, W, b, stride=1, pad=0):\n",
        "        self.W = W\n",
        "        self.b = b\n",
        "        self.stride = stride\n",
        "        self.pad = pad\n",
        "        \n",
        "        # 中間データ（backward時に使用）\n",
        "        self.x = None   \n",
        "        self.col = None\n",
        "        self.col_W = None\n",
        "        \n",
        "        # フィルター・バイアスパラメータの勾配\n",
        "        self.dW = None\n",
        "        self.db = None\n",
        "\n",
        "    def forward(self, x):\n",
        "        # FN: filter_number, C: channel, FH: filter_height, FW: filter_width\n",
        "        FN, C, FH, FW = self.W.shape\n",
        "        N, C, H, W = x.shape\n",
        "        # 出力値のheight, width\n",
        "        out_h = 1 + int((H + 2 * self.pad - FH) / self.stride)\n",
        "        out_w = 1 + int((W + 2 * self.pad - FW) / self.stride)\n",
        "        \n",
        "        # xを行列に変換\n",
        "        col = im2col(x, FH, FW, self.stride, self.pad)\n",
        "        # フィルターをxに合わせた行列に変換\n",
        "        col_W = self.W.reshape(FN, -1).T\n",
        "\n",
        "        out = np.dot(col, col_W) + self.b\n",
        "        # 計算のために変えた形式を戻す\n",
        "        out = out.reshape(N, out_h, out_w, -1).transpose(0, 3, 1, 2)\n",
        "\n",
        "        self.x = x\n",
        "        self.col = col\n",
        "        self.col_W = col_W\n",
        "\n",
        "        return out\n",
        "\n",
        "    def backward(self, dout):\n",
        "        FN, C, FH, FW = self.W.shape\n",
        "        dout = dout.transpose(0, 2, 3, 1).reshape(-1, FN)\n",
        "\n",
        "        self.db = np.sum(dout, axis=0)\n",
        "        self.dW = np.dot(self.col.T, dout)\n",
        "        self.dW = self.dW.transpose(1, 0).reshape(FN, C, FH, FW)\n",
        "\n",
        "        dcol = np.dot(dout, self.col_W.T)\n",
        "        # dcolを画像データに変換\n",
        "        dx = col2im(dcol, self.x.shape, FH, FW, self.stride, self.pad)\n",
        "\n",
        "        return dx\n"
      ],
      "execution_count": null,
      "outputs": []
    },
    {
      "cell_type": "markdown",
      "metadata": {
        "id": "ajeATc1r41ar"
      },
      "source": [
        "## pooling class"
      ]
    },
    {
      "cell_type": "code",
      "metadata": {
        "id": "ohjf8L6d41as"
      },
      "source": [
        "class Pooling:\n",
        "    def __init__(self, pool_h, pool_w, stride=1, pad=0):\n",
        "        self.pool_h = pool_h\n",
        "        self.pool_w = pool_w\n",
        "        self.stride = stride\n",
        "        self.pad = pad\n",
        "        \n",
        "        self.x = None\n",
        "        self.arg_max = None\n",
        "\n",
        "    def forward(self, x):\n",
        "        N, C, H, W = x.shape\n",
        "        out_h = int(1 + (H - self.pool_h) / self.stride)\n",
        "        out_w = int(1 + (W - self.pool_w) / self.stride)\n",
        "        \n",
        "        # xを行列に変換\n",
        "        col = im2col(x, self.pool_h, self.pool_w, self.stride, self.pad)\n",
        "        # プーリングのサイズに合わせてリサイズ\n",
        "        col = col.reshape(-1, self.pool_h*self.pool_w)\n",
        "        \n",
        "        # 行ごとに最大値を求める\n",
        "        arg_max = np.argmax(col, axis=1)\n",
        "        out = np.max(col, axis=1)\n",
        "        # 整形\n",
        "        out = out.reshape(N, out_h, out_w, C).transpose(0, 3, 1, 2)\n",
        "\n",
        "        self.x = x\n",
        "        self.arg_max = arg_max\n",
        "\n",
        "        return out\n",
        "\n",
        "    def backward(self, dout):\n",
        "        dout = dout.transpose(0, 2, 3, 1)\n",
        "        \n",
        "        pool_size = self.pool_h * self.pool_w\n",
        "        dmax = np.zeros((dout.size, pool_size))\n",
        "        dmax[np.arange(self.arg_max.size), self.arg_max.flatten()] = dout.flatten()\n",
        "        dmax = dmax.reshape(dout.shape + (pool_size,)) \n",
        "        \n",
        "        dcol = dmax.reshape(dmax.shape[0] * dmax.shape[1] * dmax.shape[2], -1)\n",
        "        dx = col2im(dcol, self.x.shape, self.pool_h, self.pool_w, self.stride, self.pad)\n",
        "        \n",
        "        return dx\n"
      ],
      "execution_count": null,
      "outputs": []
    },
    {
      "cell_type": "markdown",
      "metadata": {
        "id": "R_4EiODW41av"
      },
      "source": [
        "## sinple convolution network class"
      ]
    },
    {
      "cell_type": "code",
      "metadata": {
        "id": "Bjvis0sV41aw"
      },
      "source": [
        "class SimpleConvNet:\n",
        "    # conv - relu - pool - affine - relu - affine - softmax\n",
        "    def __init__(self, input_dim=(1, 28, 28), conv_param={'filter_num':30, 'filter_size':5, 'pad':0, 'stride':1},\n",
        "                 hidden_size=100, output_size=10, weight_init_std=0.01):\n",
        "        filter_num = conv_param['filter_num']        \n",
        "        filter_size = conv_param['filter_size']\n",
        "        filter_pad = conv_param['pad']\n",
        "        filter_stride = conv_param['stride']\n",
        "        input_size = input_dim[1]\n",
        "        conv_output_size = (input_size - filter_size + 2 * filter_pad) / filter_stride + 1\n",
        "        pool_output_size = int(filter_num * (conv_output_size / 2) * (conv_output_size / 2))\n",
        "\n",
        "        # 重みの初期化\n",
        "        self.params = {}\n",
        "        self.params['W1'] = weight_init_std * np.random.randn(filter_num, input_dim[0], filter_size, filter_size)\n",
        "        self.params['b1'] = np.zeros(filter_num)\n",
        "        self.params['W2'] = weight_init_std * np.random.randn(pool_output_size, hidden_size)\n",
        "        self.params['b2'] = np.zeros(hidden_size)\n",
        "        self.params['W3'] = weight_init_std * np.random.randn(hidden_size, output_size)\n",
        "        self.params['b3'] = np.zeros(output_size)\n",
        "\n",
        "        # レイヤの生成\n",
        "        self.layers = OrderedDict()\n",
        "        self.layers['Conv1'] = layers.Convolution(self.params['W1'], self.params['b1'], conv_param['stride'], conv_param['pad'])\n",
        "        self.layers['Relu1'] = layers.Relu()\n",
        "        self.layers['Pool1'] = layers.Pooling(pool_h=2, pool_w=2, stride=2)\n",
        "        self.layers['Affine1'] = layers.Affine(self.params['W2'], self.params['b2'])\n",
        "        self.layers['Relu2'] = layers.Relu()\n",
        "        self.layers['Affine2'] = layers.Affine(self.params['W3'], self.params['b3'])\n",
        "\n",
        "        self.last_layer = layers.SoftmaxWithLoss()\n",
        "\n",
        "    def predict(self, x):\n",
        "        for key in self.layers.keys():\n",
        "            x = self.layers[key].forward(x)\n",
        "        return x\n",
        "        \n",
        "    def loss(self, x, d):\n",
        "        y = self.predict(x)\n",
        "        return self.last_layer.forward(y, d)\n",
        "\n",
        "    def accuracy(self, x, d, batch_size=100):\n",
        "        if d.ndim != 1 : d = np.argmax(d, axis=1)\n",
        "        \n",
        "        acc = 0.0\n",
        "        \n",
        "        for i in range(int(x.shape[0] / batch_size)):\n",
        "            tx = x[i*batch_size:(i+1)*batch_size]\n",
        "            td = d[i*batch_size:(i+1)*batch_size]\n",
        "            y = self.predict(tx)\n",
        "            y = np.argmax(y, axis=1)\n",
        "            acc += np.sum(y == td) \n",
        "        \n",
        "        return acc / x.shape[0]\n",
        "\n",
        "    def gradient(self, x, d):\n",
        "        # forward\n",
        "        self.loss(x, d)\n",
        "        \n",
        "        # backward\n",
        "        dout = 1\n",
        "        dout = self.last_layer.backward(dout)\n",
        "        layers = list(self.layers.values())\n",
        "        \n",
        "        layers.reverse()\n",
        "        for layer in layers:\n",
        "            dout = layer.backward(dout)\n",
        "\n",
        "        # 設定\n",
        "        grad = {}\n",
        "        grad['W1'], grad['b1'] = self.layers['Conv1'].dW, self.layers['Conv1'].db\n",
        "        grad['W2'], grad['b2'] = self.layers['Affine1'].dW, self.layers['Affine1'].db\n",
        "        grad['W3'], grad['b3'] = self.layers['Affine2'].dW, self.layers['Affine2'].db\n",
        "\n",
        "        return grad"
      ],
      "execution_count": null,
      "outputs": []
    },
    {
      "cell_type": "code",
      "metadata": {
        "id": "UontjUaA41ay",
        "colab": {
          "base_uri": "https://localhost:8080/",
          "height": 1000
        },
        "outputId": "3706379c-0a68-4f6c-9f99-c7f3b50e90c9"
      },
      "source": [
        "from common import optimizer\n",
        "\n",
        "# データの読み込み\n",
        "(x_train, d_train), (x_test, d_test) = load_mnist(flatten=False)\n",
        "\n",
        "print(\"データ読み込み完了\")\n",
        "\n",
        "# 処理に時間のかかる場合はデータを削減 \n",
        "x_train, d_train = x_train[:5000], d_train[:5000]\n",
        "x_test, d_test = x_test[:1000], d_test[:1000]\n",
        "\n",
        "\n",
        "network = SimpleConvNet(input_dim=(1,28,28), conv_param = {'filter_num': 30, 'filter_size': 5, 'pad': 0, 'stride': 1},\n",
        "                        hidden_size=100, output_size=10, weight_init_std=0.01)\n",
        "\n",
        "optimizer = optimizer.Adam()\n",
        "\n",
        "iters_num = 1000\n",
        "train_size = x_train.shape[0]\n",
        "batch_size = 100\n",
        "\n",
        "train_loss_list = []\n",
        "accuracies_train = []\n",
        "accuracies_test = []\n",
        "\n",
        "plot_interval=10\n",
        "\n",
        "\n",
        "\n",
        "for i in range(iters_num):\n",
        "    batch_mask = np.random.choice(train_size, batch_size)\n",
        "    x_batch = x_train[batch_mask]\n",
        "    d_batch = d_train[batch_mask]\n",
        "    \n",
        "    grad = network.gradient(x_batch, d_batch)\n",
        "    optimizer.update(network.params, grad)\n",
        "\n",
        "    loss = network.loss(x_batch, d_batch)\n",
        "    train_loss_list.append(loss)\n",
        "\n",
        "    if (i+1) % plot_interval == 0:\n",
        "        accr_train = network.accuracy(x_train, d_train)\n",
        "        accr_test = network.accuracy(x_test, d_test)\n",
        "        accuracies_train.append(accr_train)\n",
        "        accuracies_test.append(accr_test)\n",
        "        \n",
        "        print('Generation: ' + str(i+1) + '. 正答率(トレーニング) = ' + str(accr_train))\n",
        "        print('                : ' + str(i+1) + '. 正答率(テスト) = ' + str(accr_test))               \n",
        "\n",
        "lists = range(0, iters_num, plot_interval)\n",
        "plt.plot(lists, accuracies_train, label=\"training set\")\n",
        "plt.plot(lists, accuracies_test,  label=\"test set\")\n",
        "plt.legend(loc=\"lower right\")\n",
        "plt.title(\"accuracy\")\n",
        "plt.xlabel(\"count\")\n",
        "plt.ylabel(\"accuracy\")\n",
        "plt.ylim(0, 1.0)\n",
        "# グラフの表示\n",
        "plt.show()"
      ],
      "execution_count": null,
      "outputs": [
        {
          "output_type": "stream",
          "text": [
            "データ読み込み完了\n",
            "Generation: 10. 正答率(トレーニング) = 0.289\n",
            "                : 10. 正答率(テスト) = 0.252\n",
            "Generation: 20. 正答率(トレーニング) = 0.66\n",
            "                : 20. 正答率(テスト) = 0.628\n",
            "Generation: 30. 正答率(トレーニング) = 0.7038\n",
            "                : 30. 正答率(テスト) = 0.678\n",
            "Generation: 40. 正答率(トレーニング) = 0.788\n",
            "                : 40. 正答率(テスト) = 0.741\n",
            "Generation: 50. 正答率(トレーニング) = 0.8312\n",
            "                : 50. 正答率(テスト) = 0.798\n",
            "Generation: 60. 正答率(トレーニング) = 0.8476\n",
            "                : 60. 正答率(テスト) = 0.832\n",
            "Generation: 70. 正答率(トレーニング) = 0.8696\n",
            "                : 70. 正答率(テスト) = 0.84\n",
            "Generation: 80. 正答率(トレーニング) = 0.88\n",
            "                : 80. 正答率(テスト) = 0.85\n",
            "Generation: 90. 正答率(トレーニング) = 0.8614\n",
            "                : 90. 正答率(テスト) = 0.823\n",
            "Generation: 100. 正答率(トレーニング) = 0.8946\n",
            "                : 100. 正答率(テスト) = 0.849\n",
            "Generation: 110. 正答率(トレーニング) = 0.9048\n",
            "                : 110. 正答率(テスト) = 0.87\n",
            "Generation: 120. 正答率(トレーニング) = 0.9058\n",
            "                : 120. 正答率(テスト) = 0.876\n",
            "Generation: 130. 正答率(トレーニング) = 0.908\n",
            "                : 130. 正答率(テスト) = 0.878\n",
            "Generation: 140. 正答率(トレーニング) = 0.9118\n",
            "                : 140. 正答率(テスト) = 0.887\n",
            "Generation: 150. 正答率(トレーニング) = 0.9134\n",
            "                : 150. 正答率(テスト) = 0.893\n",
            "Generation: 160. 正答率(トレーニング) = 0.924\n",
            "                : 160. 正答率(テスト) = 0.895\n",
            "Generation: 170. 正答率(トレーニング) = 0.926\n",
            "                : 170. 正答率(テスト) = 0.887\n",
            "Generation: 180. 正答率(トレーニング) = 0.9244\n",
            "                : 180. 正答率(テスト) = 0.886\n",
            "Generation: 190. 正答率(トレーニング) = 0.9246\n",
            "                : 190. 正答率(テスト) = 0.89\n",
            "Generation: 200. 正答率(トレーニング) = 0.9198\n",
            "                : 200. 正答率(テスト) = 0.896\n",
            "Generation: 210. 正答率(トレーニング) = 0.9326\n",
            "                : 210. 正答率(テスト) = 0.902\n",
            "Generation: 220. 正答率(トレーニング) = 0.9362\n",
            "                : 220. 正答率(テスト) = 0.9\n",
            "Generation: 230. 正答率(トレーニング) = 0.9268\n",
            "                : 230. 正答率(テスト) = 0.898\n",
            "Generation: 240. 正答率(トレーニング) = 0.9368\n",
            "                : 240. 正答率(テスト) = 0.903\n",
            "Generation: 250. 正答率(トレーニング) = 0.9372\n",
            "                : 250. 正答率(テスト) = 0.912\n",
            "Generation: 260. 正答率(トレーニング) = 0.9404\n",
            "                : 260. 正答率(テスト) = 0.911\n",
            "Generation: 270. 正答率(トレーニング) = 0.9362\n",
            "                : 270. 正答率(テスト) = 0.906\n",
            "Generation: 280. 正答率(トレーニング) = 0.9442\n",
            "                : 280. 正答率(テスト) = 0.912\n",
            "Generation: 290. 正答率(トレーニング) = 0.947\n",
            "                : 290. 正答率(テスト) = 0.912\n",
            "Generation: 300. 正答率(トレーニング) = 0.946\n",
            "                : 300. 正答率(テスト) = 0.906\n",
            "Generation: 310. 正答率(トレーニング) = 0.9514\n",
            "                : 310. 正答率(テスト) = 0.915\n",
            "Generation: 320. 正答率(トレーニング) = 0.9508\n",
            "                : 320. 正答率(テスト) = 0.908\n",
            "Generation: 330. 正答率(トレーニング) = 0.9564\n",
            "                : 330. 正答率(テスト) = 0.917\n",
            "Generation: 340. 正答率(トレーニング) = 0.955\n",
            "                : 340. 正答率(テスト) = 0.913\n",
            "Generation: 350. 正答率(トレーニング) = 0.9546\n",
            "                : 350. 正答率(テスト) = 0.927\n",
            "Generation: 360. 正答率(トレーニング) = 0.9514\n",
            "                : 360. 正答率(テスト) = 0.916\n",
            "Generation: 370. 正答率(トレーニング) = 0.96\n",
            "                : 370. 正答率(テスト) = 0.93\n",
            "Generation: 380. 正答率(トレーニング) = 0.961\n",
            "                : 380. 正答率(テスト) = 0.928\n",
            "Generation: 390. 正答率(トレーニング) = 0.9638\n",
            "                : 390. 正答率(テスト) = 0.929\n",
            "Generation: 400. 正答率(トレーニング) = 0.9628\n",
            "                : 400. 正答率(テスト) = 0.931\n",
            "Generation: 410. 正答率(トレーニング) = 0.96\n",
            "                : 410. 正答率(テスト) = 0.928\n",
            "Generation: 420. 正答率(トレーニング) = 0.9648\n",
            "                : 420. 正答率(テスト) = 0.931\n",
            "Generation: 430. 正答率(トレーニング) = 0.966\n",
            "                : 430. 正答率(テスト) = 0.933\n",
            "Generation: 440. 正答率(トレーニング) = 0.9648\n",
            "                : 440. 正答率(テスト) = 0.93\n",
            "Generation: 450. 正答率(トレーニング) = 0.9676\n",
            "                : 450. 正答率(テスト) = 0.934\n",
            "Generation: 460. 正答率(トレーニング) = 0.9668\n",
            "                : 460. 正答率(テスト) = 0.937\n",
            "Generation: 470. 正答率(トレーニング) = 0.9686\n",
            "                : 470. 正答率(テスト) = 0.934\n",
            "Generation: 480. 正答率(トレーニング) = 0.973\n",
            "                : 480. 正答率(テスト) = 0.934\n",
            "Generation: 490. 正答率(トレーニング) = 0.9756\n",
            "                : 490. 正答率(テスト) = 0.941\n",
            "Generation: 500. 正答率(トレーニング) = 0.9708\n",
            "                : 500. 正答率(テスト) = 0.933\n",
            "Generation: 510. 正答率(トレーニング) = 0.9728\n",
            "                : 510. 正答率(テスト) = 0.937\n",
            "Generation: 520. 正答率(トレーニング) = 0.974\n",
            "                : 520. 正答率(テスト) = 0.949\n",
            "Generation: 530. 正答率(トレーニング) = 0.9734\n",
            "                : 530. 正答率(テスト) = 0.938\n",
            "Generation: 540. 正答率(トレーニング) = 0.9746\n",
            "                : 540. 正答率(テスト) = 0.944\n",
            "Generation: 550. 正答率(トレーニング) = 0.9734\n",
            "                : 550. 正答率(テスト) = 0.94\n",
            "Generation: 560. 正答率(トレーニング) = 0.9786\n",
            "                : 560. 正答率(テスト) = 0.941\n",
            "Generation: 570. 正答率(トレーニング) = 0.9774\n",
            "                : 570. 正答率(テスト) = 0.945\n",
            "Generation: 580. 正答率(トレーニング) = 0.9786\n",
            "                : 580. 正答率(テスト) = 0.95\n",
            "Generation: 590. 正答率(トレーニング) = 0.9802\n",
            "                : 590. 正答率(テスト) = 0.949\n",
            "Generation: 600. 正答率(トレーニング) = 0.976\n",
            "                : 600. 正答率(テスト) = 0.947\n",
            "Generation: 610. 正答率(トレーニング) = 0.98\n",
            "                : 610. 正答率(テスト) = 0.951\n",
            "Generation: 620. 正答率(トレーニング) = 0.9778\n",
            "                : 620. 正答率(テスト) = 0.938\n",
            "Generation: 630. 正答率(トレーニング) = 0.9784\n",
            "                : 630. 正答率(テスト) = 0.942\n",
            "Generation: 640. 正答率(トレーニング) = 0.9796\n",
            "                : 640. 正答率(テスト) = 0.944\n",
            "Generation: 650. 正答率(トレーニング) = 0.9844\n",
            "                : 650. 正答率(テスト) = 0.954\n",
            "Generation: 660. 正答率(トレーニング) = 0.9846\n",
            "                : 660. 正答率(テスト) = 0.944\n",
            "Generation: 670. 正答率(トレーニング) = 0.9854\n",
            "                : 670. 正答率(テスト) = 0.951\n",
            "Generation: 680. 正答率(トレーニング) = 0.9856\n",
            "                : 680. 正答率(テスト) = 0.944\n",
            "Generation: 690. 正答率(トレーニング) = 0.985\n",
            "                : 690. 正答率(テスト) = 0.946\n",
            "Generation: 700. 正答率(トレーニング) = 0.9866\n",
            "                : 700. 正答率(テスト) = 0.945\n",
            "Generation: 710. 正答率(トレーニング) = 0.9854\n",
            "                : 710. 正答率(テスト) = 0.946\n",
            "Generation: 720. 正答率(トレーニング) = 0.984\n",
            "                : 720. 正答率(テスト) = 0.942\n",
            "Generation: 730. 正答率(トレーニング) = 0.9832\n",
            "                : 730. 正答率(テスト) = 0.944\n",
            "Generation: 740. 正答率(トレーニング) = 0.9878\n",
            "                : 740. 正答率(テスト) = 0.952\n",
            "Generation: 750. 正答率(トレーニング) = 0.9856\n",
            "                : 750. 正答率(テスト) = 0.945\n",
            "Generation: 760. 正答率(トレーニング) = 0.9852\n",
            "                : 760. 正答率(テスト) = 0.952\n",
            "Generation: 770. 正答率(トレーニング) = 0.9898\n",
            "                : 770. 正答率(テスト) = 0.951\n",
            "Generation: 780. 正答率(トレーニング) = 0.9874\n",
            "                : 780. 正答率(テスト) = 0.949\n",
            "Generation: 790. 正答率(トレーニング) = 0.9888\n",
            "                : 790. 正答率(テスト) = 0.952\n",
            "Generation: 800. 正答率(トレーニング) = 0.988\n",
            "                : 800. 正答率(テスト) = 0.949\n",
            "Generation: 810. 正答率(トレーニング) = 0.9896\n",
            "                : 810. 正答率(テスト) = 0.957\n",
            "Generation: 820. 正答率(トレーニング) = 0.9908\n",
            "                : 820. 正答率(テスト) = 0.957\n",
            "Generation: 830. 正答率(トレーニング) = 0.9864\n",
            "                : 830. 正答率(テスト) = 0.949\n",
            "Generation: 840. 正答率(トレーニング) = 0.9914\n",
            "                : 840. 正答率(テスト) = 0.954\n",
            "Generation: 850. 正答率(トレーニング) = 0.9916\n",
            "                : 850. 正答率(テスト) = 0.955\n",
            "Generation: 860. 正答率(トレーニング) = 0.99\n",
            "                : 860. 正答率(テスト) = 0.949\n",
            "Generation: 870. 正答率(トレーニング) = 0.9926\n",
            "                : 870. 正答率(テスト) = 0.948\n",
            "Generation: 880. 正答率(トレーニング) = 0.9914\n",
            "                : 880. 正答率(テスト) = 0.958\n",
            "Generation: 890. 正答率(トレーニング) = 0.9912\n",
            "                : 890. 正答率(テスト) = 0.956\n",
            "Generation: 900. 正答率(トレーニング) = 0.9932\n",
            "                : 900. 正答率(テスト) = 0.955\n",
            "Generation: 910. 正答率(トレーニング) = 0.993\n",
            "                : 910. 正答率(テスト) = 0.953\n",
            "Generation: 920. 正答率(トレーニング) = 0.9922\n",
            "                : 920. 正答率(テスト) = 0.954\n",
            "Generation: 930. 正答率(トレーニング) = 0.9912\n",
            "                : 930. 正答率(テスト) = 0.953\n",
            "Generation: 940. 正答率(トレーニング) = 0.9924\n",
            "                : 940. 正答率(テスト) = 0.952\n",
            "Generation: 950. 正答率(トレーニング) = 0.994\n",
            "                : 950. 正答率(テスト) = 0.949\n",
            "Generation: 960. 正答率(トレーニング) = 0.994\n",
            "                : 960. 正答率(テスト) = 0.952\n",
            "Generation: 970. 正答率(トレーニング) = 0.9952\n",
            "                : 970. 正答率(テスト) = 0.953\n",
            "Generation: 980. 正答率(トレーニング) = 0.9954\n",
            "                : 980. 正答率(テスト) = 0.955\n",
            "Generation: 990. 正答率(トレーニング) = 0.9946\n",
            "                : 990. 正答率(テスト) = 0.956\n",
            "Generation: 1000. 正答率(トレーニング) = 0.996\n",
            "                : 1000. 正答率(テスト) = 0.958\n"
          ],
          "name": "stdout"
        },
        {
          "output_type": "display_data",
          "data": {
            "image/png": "[encoded data removed]",
            "text/plain": [
              "<Figure size 432x288 with 1 Axes>"
            ]
          },
          "metadata": {
            "tags": [],
            "needs_background": "light"
          }
        }
      ]
    },
    {
      "cell_type": "code",
      "metadata": {
        "id": "s73PJTtv41a2"
      },
      "source": [
        ""
      ],
      "execution_count": null,
      "outputs": []
    },
    {
      "cell_type": "code",
      "metadata": {
        "id": "IAtAWIrk41a4"
      },
      "source": [
        ""
      ],
      "execution_count": null,
      "outputs": []
    },
    {
      "cell_type": "code",
      "metadata": {
        "id": "uUsVD5ef41a6"
      },
      "source": [
        ""
      ],
      "execution_count": null,
      "outputs": []
    }
  ]
}