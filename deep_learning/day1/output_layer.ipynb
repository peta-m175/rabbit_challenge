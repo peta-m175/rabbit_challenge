{
  "nbformat": 4,
  "nbformat_minor": 0,
  "metadata": {
    "colab": {
      "name": "output_layer.ipynb",
      "provenance": [],
      "collapsed_sections": [],
      "authorship_tag": "ABX9TyMqUnkxEkVZGBRZcrtmxPsT",
      "include_colab_link": true
    },
    "kernelspec": {
      "name": "python3",
      "display_name": "Python 3"
    }
  },
  "cells": [
    {
      "cell_type": "markdown",
      "metadata": {
        "id": "view-in-github",
        "colab_type": "text"
      },
      "source": [
        "<a href=\"https://colab.research.google.com/github/peta-m175/rabbit_challenge/blob/master/deep_learning/day1/output_layer.ipynb\" target=\"_parent\"><img src=\"https://colab.research.google.com/assets/colab-badge.svg\" alt=\"Open In Colab\"/></a>"
      ]
    },
    {
      "cell_type": "markdown",
      "metadata": {
        "id": "94R0U_Dmdaor"
      },
      "source": [
        "# 出力層"
      ]
    },
    {
      "cell_type": "markdown",
      "metadata": {
        "id": "O1_L1PtiI0Fo"
      },
      "source": [
        ""
      ]
    },
    {
      "cell_type": "markdown",
      "metadata": {
        "id": "KcUW7WPNSCE_"
      },
      "source": [
        "### 誤差関数"
      ]
    },
    {
      "cell_type": "markdown",
      "metadata": {
        "id": "3i-dCFlsSi4w"
      },
      "source": [
        "$$\n",
        "E_n(w)=\\frac{1}{2}\\sum_{j=1}^l(y_j-d_j)^2 = \\frac{1}{2}||(y-d)||^2\n",
        "$$"
      ]
    },
    {
      "cell_type": "markdown",
      "metadata": {
        "id": "Xj08Q0kONaVg"
      },
      "source": [
        "- 分類問題の場合、誤差関数にクロスエントロピー誤差を用いる\n",
        "  ```\n",
        "  def cross_entropy_error(d, y):\n",
        "    if y.ndim == 1:\n",
        "        d = d.reshape(1, d.size)\n",
        "        y = y.reshape(1, y.size)\n",
        "        \n",
        "    # 教師データがone-hot-vectorの場合、正解ラベルのインデックスに変換\n",
        "    if d.size == y.size:\n",
        "        d = d.argmax(axis=1)\n",
        "             \n",
        "    batch_size = y.shape[0]\n",
        "    return -np.sum(np.log(y[np.arange(batch_size), d] + 1e-7)) / batch_size\n",
        "  \n",
        "  loss =cross_entropy_error(d,y)\n",
        "  ```\n",
        "\n",
        "- 説明上では便宜上、平均二乗誤差を用いる\n",
        "  ```\n",
        "  def mean_squared_error(d, y):\n",
        "    return np.mean(np.square(d - y)) / 2\n",
        "  \n",
        "  loss = mean_squared_error(d, y)\n",
        "  ```\n"
      ]
    },
    {
      "cell_type": "markdown",
      "metadata": {
        "id": "e1mCkowTPAeU"
      },
      "source": [
        "## 出力層の活性化関数"
      ]
    },
    {
      "cell_type": "markdown",
      "metadata": {
        "id": "6ChVBt0ZPDrr"
      },
      "source": [
        "出力層と中間層の違いにより、利用される活性化関数が異なる\n",
        "\n",
        "- 値の強弱\n",
        "  - 中間層︓しきい値の前後で信号の強弱を調整\n",
        "  - 出力層︓信号の大きさ（比率）はそのままに変換\n",
        "- 確率出力\n",
        "  - 分類問題の場合、出力層の出力は0 ~ 1 の範囲に限定し、総和を１とする必要がある"
      ]
    },
    {
      "cell_type": "markdown",
      "metadata": {
        "id": "AJJKdCFXPfhs"
      },
      "source": [
        "種類\n",
        "\n",
        "||回帰|二値分類|多クラス分類|\n",
        "|:---|:---:|:---:|:---:|\n",
        "|活性化関数|恒等写像|シグモイド関数|ソフトマックス関数|\n",
        "|誤差関数|二乗誤差|交差エントロピー|交差エントロピー|\n",
        "\n",
        "- 活性化関数\n",
        "  - 恒等写像\n",
        "  $$\n",
        "    f(u)=u\n",
        "  $$\n",
        "  - シグモイド関数\n",
        "  $$\n",
        "  f(u)=\\frac{1}{1+e^{-u}}\n",
        "  $$\n",
        "  - ソフトマックス関数\n",
        "  $$\n",
        "  f(i,u)=\\frac{e^{u_i}}{\\sum_{k=1}^{K}e^{u_k}}\n",
        "  $$\n",
        "- 誤差関数\n",
        "  - 二乗誤差\n",
        "  $$\n",
        "  E_n(w)=\\frac{1}{2}\\sum_{i=1}^{l}(y_n-d_n)^2\n",
        "  $$\n",
        "    ```\n",
        "    def mean_squared_error(d, y):\n",
        "      return np.mean(np.square(d -y)) / 2\n",
        "    ```\n",
        "  - 交差エントロピー\n",
        "  $$\n",
        "  E_n(w)=-\\sum_{i=1}^{l}d_i\\log y_i\n",
        "  $$\n",
        "    ```\n",
        "    def cross_entropy_error(d, y):\n",
        "      if y.ndim == 1:\n",
        "        d = d.reshape(1, d.size)\n",
        "        y = y.reshape(1, y.size)\n",
        "        \n",
        "      # 教師データがone-hot-vectorの場合、正解ラベルのインデックスに変換\n",
        "      if d.size == y.size:\n",
        "        d = d.argmax(axis=1)\n",
        "             \n",
        "      batch_size = y.shape[0]\n",
        "      return -np.sum(np.log(y[np.arange(batch_size), d] + 1e-7)) / batch_size\n",
        "    ```\n",
        "- 学習サイクルあたりの誤差\n",
        "$$\n",
        "E(w)=\\sum_{n=1}^{N}E_n\n",
        "$$"
      ]
    },
    {
      "cell_type": "code",
      "metadata": {
        "id": "0-f1qp9eSujD"
      },
      "source": [
        "import numpy as np\n",
        "import matplotlib.pylab as plt"
      ],
      "execution_count": null,
      "outputs": []
    },
    {
      "cell_type": "code",
      "metadata": {
        "colab": {
          "base_uri": "https://localhost:8080/",
          "height": 265
        },
        "id": "9Xouju_0PvEL",
        "outputId": "2ad925cc-a592-4b3a-d7e4-56b138775e7e"
      },
      "source": [
        "def softmax(x):\n",
        "  if x.ndim == 2:\n",
        "    x = x.T\n",
        "    x = x -np.max(x, axis=0)\n",
        "    y = np.exp(x) /np.sum(np.exp(x), axis=0)\n",
        "    return y.T\n",
        "  x = x -np.max(x) #オーバーフロー対策\n",
        "  return np.exp(x) / np.sum(np.exp(x))\n",
        "\n",
        "x = np.arange(-5, 5, 0.1)\n",
        "y = softmax(x)\n",
        "plt.plot(x, y)\n",
        "plt.show()"
      ],
      "execution_count": null,
      "outputs": [
        {
          "output_type": "display_data",
          "data": {
            "image/png": "[encoded data removed]",
            "text/plain": [
              "<Figure size 432x288 with 1 Axes>"
            ]
          },
          "metadata": {
            "tags": [],
            "needs_background": "light"
          }
        }
      ]
    },
    {
      "cell_type": "code",
      "metadata": {
        "colab": {
          "base_uri": "https://localhost:8080/",
          "height": 265
        },
        "id": "X-vV6S4tPsG8",
        "outputId": "5aaf5c03-380a-4200-c393-6a5fc84dbadf"
      },
      "source": [
        "def identity(a):\n",
        "  return a\n",
        "\n",
        "x = np.arange(-5, 5, 0.1)\n",
        "y = identity(x)\n",
        "plt.plot(x, y)\n",
        "plt.show()"
      ],
      "execution_count": null,
      "outputs": [
        {
          "output_type": "display_data",
          "data": {
            "image/png": "[encoded data removed]",
            "text/plain": [
              "<Figure size 432x288 with 1 Axes>"
            ]
          },
          "metadata": {
            "tags": [],
            "needs_background": "light"
          }
        }
      ]
    },
    {
      "cell_type": "markdown",
      "metadata": {
        "id": "oK9TyT70SjrA"
      },
      "source": [
        "## 確認テスト"
      ]
    },
    {
      "cell_type": "markdown",
      "metadata": {
        "id": "-t8d54NmLkrl"
      },
      "source": [
        "### P.38"
      ]
    },
    {
      "cell_type": "markdown",
      "metadata": {
        "id": "sLqiF6HdLnt0"
      },
      "source": [
        "- Q:\n",
        "  1. なぜ、引き算でなく二乗するか述べよ\n",
        "  2. 下式の1/2はどういう意味を持つか述べよ\n",
        "- A:\n",
        "  1. 各ラベルの誤差を足すと0になってしまうため、それぞれを正の値にする\n",
        "  2. 微分時に相殺させ、式の簡略化が目的"
      ]
    },
    {
      "cell_type": "markdown",
      "metadata": {
        "id": "o9OD9ljpMSN-"
      },
      "source": [
        "### P.45"
      ]
    },
    {
      "cell_type": "markdown",
      "metadata": {
        "id": "qVJxKllRVwlo"
      },
      "source": [
        "- Q: 1~3の数式に該当するソースコードを示し、一行づつ処理の説明をせよ\n",
        "  1. $f(i,u)$\n",
        "  2. $e^{u_i}$\n",
        "  3. $\\sum_{k=1}^{K}e^{u_k}$\n",
        "- A:\n",
        "  1. `def softmax(x):`\n",
        "    - x=(_,u)のような関数で定義\n",
        "  2. `np.exp(x)`\n",
        "    - exp関数を使用\n",
        "  3. `np.sum(np.exp(x))`\n",
        "    - exp関数の合計値を算出"
      ]
    },
    {
      "cell_type": "markdown",
      "metadata": {
        "id": "8FdbLjkBbIbp"
      },
      "source": [
        "### P.47"
      ]
    },
    {
      "cell_type": "markdown",
      "metadata": {
        "id": "JN2i7cTsbo5_"
      },
      "source": [
        "- Q:\n",
        "  1. $E_n(w)$\n",
        "  2. $-\\sum_{i=1}^{l}d_i\\log y_i$\n",
        "- A:\n",
        "  1. `def cross_entropy_error(d, y):`\n",
        "    - 関数定義()\n",
        "  2. `return -np.sum(np.log(y[np.arange(batch_size), d] + 1e-7)) / batch_size`\n",
        "    - one-hotの値でも可\n",
        "    - batch_size:ミニバッチのサイズを定義\n",
        "    - e-7: 対数関数で0のときに-∞になるのを防ぐ"
      ]
    }
  ]
}