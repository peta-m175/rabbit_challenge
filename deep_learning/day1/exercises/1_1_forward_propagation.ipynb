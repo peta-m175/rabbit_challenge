{
  "nbformat": 4,
  "nbformat_minor": 0,
  "metadata": {
    "kernelspec": {
      "display_name": "Python 3",
      "language": "python",
      "name": "python3"
    },
    "language_info": {
      "codemirror_mode": {
        "name": "ipython",
        "version": 3
      },
      "file_extension": ".py",
      "mimetype": "text/x-python",
      "name": "python",
      "nbconvert_exporter": "python",
      "pygments_lexer": "ipython3",
      "version": "3.6.3"
    },
    "colab": {
      "name": "1_1_forward_propagation.ipynb",
      "provenance": [],
      "collapsed_sections": [],
      "include_colab_link": true
    }
  },
  "cells": [
    {
      "cell_type": "markdown",
      "metadata": {
        "id": "view-in-github",
        "colab_type": "text"
      },
      "source": [
        "<a href=\"https://colab.research.google.com/github/peta-m175/rabbit_challenge/blob/master/deep_learning/day1/exercises/1_1_forward_propagation.ipynb\" target=\"_parent\"><img src=\"https://colab.research.google.com/assets/colab-badge.svg\" alt=\"Open In Colab\"/></a>"
      ]
    },
    {
      "cell_type": "markdown",
      "metadata": {
        "id": "8cNl2QA_Rnv5"
      },
      "source": [
        "# 準備"
      ]
    },
    {
      "cell_type": "markdown",
      "metadata": {
        "id": "YkwjN1jNVAYy"
      },
      "source": [
        "## Googleドライブのマウント"
      ]
    },
    {
      "cell_type": "code",
      "metadata": {
        "id": "pvFXpiH3EVC1",
        "colab": {
          "base_uri": "https://localhost:8080/"
        },
        "outputId": "aafa4fd2-2af6-4d30-fcdc-59952264d042"
      },
      "source": [
        "from google.colab import drive\n",
        "drive.mount('/content/drive')"
      ],
      "execution_count": 41,
      "outputs": [
        {
          "output_type": "stream",
          "text": [
            "Drive already mounted at /content/drive; to attempt to forcibly remount, call drive.mount(\"/content/drive\", force_remount=True).\n"
          ],
          "name": "stdout"
        }
      ]
    },
    {
      "cell_type": "markdown",
      "metadata": {
        "id": "3Ub7RYdeY6pK"
      },
      "source": [
        "## sys.pathの設定"
      ]
    },
    {
      "cell_type": "markdown",
      "metadata": {
        "id": "oql7L19rEsWi"
      },
      "source": [
        "以下では，Googleドライブのマイドライブ直下にDNN_codeフォルダを置くことを仮定しています．必要に応じて，パスを変更してください．"
      ]
    },
    {
      "cell_type": "code",
      "metadata": {
        "id": "7Ic2JzkvFX59"
      },
      "source": [
        "import sys\n",
        "sys.path.append('/content/drive/My Drive/rabbit_challenge/DNN_code_colab_ver200425')"
      ],
      "execution_count": 42,
      "outputs": []
    },
    {
      "cell_type": "markdown",
      "metadata": {
        "id": "k5L0AWliZYng"
      },
      "source": [
        "# importと関数定義"
      ]
    },
    {
      "cell_type": "code",
      "metadata": {
        "id": "R-FDEiMPe3eE"
      },
      "source": [
        "import numpy as np\n",
        "from common import functions\n",
        "import matplotlib.pyplot as plt\n",
        "\n",
        "#def print_vec(text, vec):\n",
        "def print_vec(text, vec, print_shape=False):\n",
        "    print(\"*** \" + text + \" ***\")\n",
        "    print(vec)\n",
        "    if print_shape:\n",
        "      print(\"shape: \" + str(vec.shape))\n",
        "    print(\"\")\n"
      ],
      "execution_count": 43,
      "outputs": []
    },
    {
      "cell_type": "markdown",
      "metadata": {
        "id": "uqIgpdkPe5yR"
      },
      "source": [
        "# 順伝播（単層・単ユニット）"
      ]
    },
    {
      "cell_type": "code",
      "metadata": {
        "scrolled": true,
        "id": "5nwFXP3le3eJ",
        "colab": {
          "base_uri": "https://localhost:8080/"
        },
        "outputId": "5a82db89-559c-4f34-d039-6da89df136f3"
      },
      "source": [
        "# 順伝播（単層・単ユニット）\n",
        "\n",
        "# 重み\n",
        "W = np.array([[0.1], [0.2]])\n",
        "\n",
        "## 試してみよう_配列の初期化\n",
        "#W = np.zeros(2)\n",
        "#W = np.ones(2)\n",
        "#W = np.random.rand(2)\n",
        "#W = np.random.randint(5, size=(2))\n",
        "\n",
        "print_vec(\"重み\", W)\n",
        "\n",
        "\n",
        "# バイアス\n",
        "b = 0.5\n",
        "\n",
        "## 試してみよう_数値の初期化\n",
        "#b = np.random.rand() # 0~1のランダム数値\n",
        "#b = np.random.rand() * 10 -5  # -5~5のランダム数値\n",
        "\n",
        "print_vec(\"バイアス\", b)\n",
        "\n",
        "# 入力値\n",
        "x = np.array([2, 3])\n",
        "print_vec(\"入力\", x)\n",
        "\n",
        "\n",
        "# 総入力\n",
        "u = np.dot(x, W) + b\n",
        "print_vec(\"総入力\", u)\n",
        "\n",
        "# 中間層出力\n",
        "z = functions.relu(u)\n",
        "print_vec(\"中間層出力\", z)\n"
      ],
      "execution_count": 44,
      "outputs": [
        {
          "output_type": "stream",
          "text": [
            "*** 重み ***\n",
            "[[0.1]\n",
            " [0.2]]\n",
            "\n",
            "*** バイアス ***\n",
            "0.5\n",
            "\n",
            "*** 入力 ***\n",
            "[2 3]\n",
            "\n",
            "*** 総入力 ***\n",
            "[1.3]\n",
            "\n",
            "*** 中間層出力 ***\n",
            "[1.3]\n",
            "\n"
          ],
          "name": "stdout"
        }
      ]
    },
    {
      "cell_type": "markdown",
      "metadata": {
        "id": "FpOvW2Ple-zS"
      },
      "source": [
        "# 順伝播（単層・複数ユニット）\n"
      ]
    },
    {
      "cell_type": "code",
      "metadata": {
        "id": "kUxj9ZGWe3eL",
        "colab": {
          "base_uri": "https://localhost:8080/"
        },
        "outputId": "bdd32963-2935-41b6-9bda-fd8e51872be4"
      },
      "source": [
        "# 順伝播（単層・複数ユニット）\n",
        "\n",
        "# 重み\n",
        "W = np.array([\n",
        "    [0.1, 0.2, 0.3], \n",
        "    [0.2, 0.3, 0.4], \n",
        "    [0.3, 0.4, 0.5],\n",
        "    [0.4, 0.5, 0.6]\n",
        "])\n",
        "print_vec(\"重み\", W)\n",
        "\n",
        "## 試してみよう_配列の初期化\n",
        "W = np.zeros((4,3))\n",
        "print_vec(\"重み:np.zeros\", W)\n",
        "W = np.ones((4,3))\n",
        "print_vec(\"重み:np.ones\", W)\n",
        "W = np.random.rand(4,3)\n",
        "print_vec(\"重み:np.random.rand\", W)\n",
        "W = np.random.randint(5, size=(4,3))\n",
        "print_vec(\"重み:np.random.randint\", W)\n",
        "\n",
        "# バイアス\n",
        "b = np.array([0.1, 0.2, 0.3])\n",
        "print_vec(\"バイアス\", b)\n",
        "\n",
        "# 入力値\n",
        "x = np.array([1.0, 5.0, 2.0, -1.0])\n",
        "print_vec(\"入力\", x)\n",
        "\n",
        "\n",
        "#  総入力\n",
        "u = np.dot(x, W) + b\n",
        "print_vec(\"総入力\", u)\n",
        "\n",
        "# 中間層出力\n",
        "z = functions.sigmoid(u)\n",
        "print_vec(\"中間層出力\", z)\n"
      ],
      "execution_count": 50,
      "outputs": [
        {
          "output_type": "stream",
          "text": [
            "*** 重み ***\n",
            "[[0.1 0.2 0.3]\n",
            " [0.2 0.3 0.4]\n",
            " [0.3 0.4 0.5]\n",
            " [0.4 0.5 0.6]]\n",
            "\n",
            "*** 重み:np.zeros ***\n",
            "[[0. 0. 0.]\n",
            " [0. 0. 0.]\n",
            " [0. 0. 0.]\n",
            " [0. 0. 0.]]\n",
            "\n",
            "*** 重み:np.ones ***\n",
            "[[1. 1. 1.]\n",
            " [1. 1. 1.]\n",
            " [1. 1. 1.]\n",
            " [1. 1. 1.]]\n",
            "\n",
            "*** 重み:np.random.rand ***\n",
            "[[0.12821121 0.41627212 0.14882793]\n",
            " [0.55444988 0.53567332 0.62431314]\n",
            " [0.86243352 0.25897253 0.04602904]\n",
            " [0.49315969 0.27868807 0.48859153]]\n",
            "\n",
            "*** 重み:np.random.randint ***\n",
            "[[1 3 4]\n",
            " [0 0 4]\n",
            " [2 3 2]\n",
            " [4 0 0]]\n",
            "\n",
            "*** バイアス ***\n",
            "[0.1 0.2 0.3]\n",
            "\n",
            "*** 入力 ***\n",
            "[ 1.  5.  2. -1.]\n",
            "\n",
            "*** 総入力 ***\n",
            "[ 1.1  9.2 28.3]\n",
            "\n",
            "*** 中間層出力 ***\n",
            "[0.75026011 0.99989897 1.        ]\n",
            "\n"
          ],
          "name": "stdout"
        }
      ]
    },
    {
      "cell_type": "markdown",
      "metadata": {
        "id": "75hN-MtofBBE"
      },
      "source": [
        "# 順伝播（3層・複数ユニット）"
      ]
    },
    {
      "cell_type": "code",
      "metadata": {
        "id": "SrWWI-XXe3eO",
        "colab": {
          "base_uri": "https://localhost:8080/"
        },
        "outputId": "3a3871ea-4a2c-457b-e573-ec40aa941731"
      },
      "source": [
        "# 順伝播（3層・複数ユニット）\n",
        "\n",
        "# ウェイトとバイアスを設定\n",
        "# ネートワークを作成\n",
        "def init_network():\n",
        "    print(\"##### ネットワークの初期化 #####\")\n",
        "    network = {}\n",
        "    \n",
        "    #試してみよう\n",
        "    #_各パラメータのshapeを表示\n",
        "    #_ネットワークの初期値ランダム生成\n",
        "    \n",
        "    \"\"\"\n",
        "    network['W1'] = np.array([\n",
        "        [0.1, 0.3, 0.5],\n",
        "        [0.2, 0.4, 0.6]\n",
        "    ])\n",
        "    network['W2'] = np.array([\n",
        "        [0.1, 0.4],\n",
        "        [0.2, 0.5],\n",
        "        [0.3, 0.6]\n",
        "    ])\n",
        "    network['W3'] = np.array([\n",
        "        [0.1, 0.3],\n",
        "        [0.2, 0.4]\n",
        "    ])\n",
        "    network['b1'] = np.array([0.1, 0.2, 0.3])\n",
        "    network['b2'] = np.array([0.1, 0.2])\n",
        "    network['b3'] = np.array([1, 2])\n",
        "    \"\"\"\n",
        "\n",
        "    network['W1'] = np.random.rand(2,3)\n",
        "    network['W2'] = np.random.rand(3,2)\n",
        "    network['W3'] = np.random.rand(2,2)\n",
        "    network['b1'] = np.random.rand(3)\n",
        "    network['b2'] = np.random.rand(2)\n",
        "    network['b3'] = np.random.randint(3,size=(2))\n",
        "\n",
        "    print_vec(\"重み1\", network['W1'], print_shape=True)\n",
        "    print_vec(\"重み2\", network['W2'], print_shape=True)\n",
        "    print_vec(\"重み3\", network['W3'], print_shape=True)\n",
        "    print_vec(\"バイアス1\", network['b1'], print_shape=True)\n",
        "    print_vec(\"バイアス2\", network['b2'], print_shape=True)\n",
        "    print_vec(\"バイアス3\", network['b3'], print_shape=True)\n",
        "\n",
        "    return network\n",
        "\n",
        "# プロセスを作成\n",
        "# x：入力値\n",
        "def forward(network, x):\n",
        "    \n",
        "    print(\"##### 順伝播開始 #####\")\n",
        "\n",
        "    W1, W2, W3 = network['W1'], network['W2'], network['W3']\n",
        "    b1, b2, b3 = network['b1'], network['b2'], network['b3']\n",
        "    \n",
        "    # 1層の総入力\n",
        "    u1 = np.dot(x, W1) + b1\n",
        "    \n",
        "    # 1層の総出力\n",
        "    z1 = functions.relu(u1)\n",
        "    \n",
        "    # 2層の総入力\n",
        "    u2 = np.dot(z1, W2) + b2\n",
        "    \n",
        "    # 2層の総出力\n",
        "    z2 = functions.relu(u2)\n",
        "\n",
        "    # 出力層の総入力\n",
        "    u3 = np.dot(z2, W3) + b3\n",
        "    \n",
        "    # 出力層の総出力\n",
        "    y = u3\n",
        "    \n",
        "    print_vec(\"総入力1\", u1)\n",
        "    print_vec(\"中間層出力1\", z1)\n",
        "    print_vec(\"総入力2\", u2)\n",
        "    print_vec(\"出力1\", z1)\n",
        "    print(\"出力合計: \" + str(np.sum(z1)))\n",
        "\n",
        "    return y, z1, z2\n",
        "\n",
        "# 入力値\n",
        "x = np.array([1., 2.])\n",
        "print_vec(\"入力\", x)\n",
        "\n",
        "# ネットワークの初期化\n",
        "network =  init_network()\n",
        "\n",
        "y, z1, z2 = forward(network, x)"
      ],
      "execution_count": 46,
      "outputs": [
        {
          "output_type": "stream",
          "text": [
            "*** 入力 ***\n",
            "[1. 2.]\n",
            "\n",
            "##### ネットワークの初期化 #####\n",
            "*** 重み1 ***\n",
            "[[0.44278913 0.06242304 0.87729236]\n",
            " [0.79277088 0.11357023 0.41661977]]\n",
            "shape: (2, 3)\n",
            "\n",
            "*** 重み2 ***\n",
            "[[0.73969221 0.16369885]\n",
            " [0.15251205 0.92794803]\n",
            " [0.0011344  0.84296966]]\n",
            "shape: (3, 2)\n",
            "\n",
            "*** 重み3 ***\n",
            "[[0.71695713 0.14961028]\n",
            " [0.12308888 0.53854488]]\n",
            "shape: (2, 2)\n",
            "\n",
            "*** バイアス1 ***\n",
            "[0.64089373 0.17323652 0.29955499]\n",
            "shape: (3,)\n",
            "\n",
            "*** バイアス2 ***\n",
            "[0.50277833 0.46054077]\n",
            "shape: (2,)\n",
            "\n",
            "*** バイアス3 ***\n",
            "[2 1]\n",
            "shape: (2,)\n",
            "\n",
            "##### 順伝播開始 #####\n",
            "*** 総入力1 ***\n",
            "[2.66922462 0.46280003 2.01008688]\n",
            "\n",
            "*** 中間層出力1 ***\n",
            "[2.66922462 0.46280003 2.01008688]\n",
            "\n",
            "*** 総入力2 ***\n",
            "[2.55004579 3.02138641]\n",
            "\n",
            "*** 出力1 ***\n",
            "[2.66922462 0.46280003 2.01008688]\n",
            "\n",
            "出力合計: 5.142111530810167\n"
          ],
          "name": "stdout"
        }
      ]
    },
    {
      "cell_type": "markdown",
      "metadata": {
        "id": "7Np6NwxQfFas"
      },
      "source": [
        "# 多クラス分類（2-3-4ネットワーク）"
      ]
    },
    {
      "cell_type": "code",
      "metadata": {
        "id": "8uypKa5Re3eQ",
        "colab": {
          "base_uri": "https://localhost:8080/"
        },
        "outputId": "88ebbeec-b0d3-4f9e-ef92-d62939d3c68c"
      },
      "source": [
        "# 多クラス分類\n",
        "# 2-3-4ネットワーク\n",
        "\n",
        "# ！試してみよう_ノードの構成を 3-5-4 に変更してみよう\n",
        "\n",
        "# ウェイトとバイアスを設定\n",
        "# ネートワークを作成\n",
        "def init_network():\n",
        "    print(\"##### ネットワークの初期化 #####\")\n",
        "\n",
        "    #試してみよう\n",
        "    #_各パラメータのshapeを表示\n",
        "    #_ネットワークの初期値ランダム生成\n",
        "\n",
        "    \"\"\"\n",
        "    network = {}\n",
        "    network['W1'] = np.array([\n",
        "        [0.1, 0.3, 0.5],\n",
        "        [0.2, 0.4, 0.6]\n",
        "    ])\n",
        "    network['W2'] = np.array([\n",
        "        [0.1, 0.4, 0.7, 1.0],\n",
        "        [0.2, 0.5, 0.8, 1.1],\n",
        "        [0.3, 0.6, 0.9, 1.2]\n",
        "    ])\n",
        "    network['b1'] = np.array([0.1, 0.2, 0.3])\n",
        "    network['b2'] = np.array([0.1, 0.2, 0.3, 0.4])\n",
        "    \"\"\"\n",
        "\n",
        "    network['W1'] = np.random.rand(3,5)\n",
        "    network['W2'] = np.random.rand(5,4)\n",
        "    network['b1'] = np.random.rand(5)\n",
        "    network['b2'] = np.random.rand(4)\n",
        "\n",
        "    print_vec(\"重み1\", network['W1'], print_shape=True )\n",
        "    print_vec(\"重み2\", network['W2'], print_shape=True )\n",
        "    print_vec(\"バイアス1\", network['b1'], print_shape=True)\n",
        "    print_vec(\"バイアス2\", network['b2'], print_shape=True)\n",
        "\n",
        "    return network\n",
        "\n",
        "# プロセスを作成\n",
        "# x：入力値\n",
        "def forward(network, x):\n",
        "    \n",
        "    print(\"##### 順伝播開始 #####\")\n",
        "    W1, W2 = network['W1'], network['W2']\n",
        "    b1, b2 = network['b1'], network['b2']\n",
        "    \n",
        "    # 1層の総入力\n",
        "    u1 = np.dot(x, W1) + b1\n",
        "\n",
        "    # 1層の総出力\n",
        "    z1 = functions.relu(u1)\n",
        "\n",
        "    # 2層の総入力\n",
        "    u2 = np.dot(z1, W2) + b2\n",
        "    \n",
        "    # 出力値\n",
        "    y = functions.softmax(u2)\n",
        "    \n",
        "    print_vec(\"総入力1\", u1)\n",
        "    print_vec(\"中間層出力1\", z1)\n",
        "    print_vec(\"総入力2\", u2)\n",
        "    print_vec(\"出力1\", y)\n",
        "    print(\"出力合計: \" + str(np.sum(y)))\n",
        "        \n",
        "    return y, z1\n",
        "\n",
        "## 事前データ\n",
        "# 入力値\n",
        "#x = np.array([1., 2.])\n",
        "x = np.array([1., 2., 3.])\n",
        "\n",
        "# 目標出力\n",
        "#d = np.array([0, 0, 0, 1])\n",
        "d = np.array([0, 0, 0, 1, 0])\n",
        "\n",
        "# ネットワークの初期化\n",
        "network =  init_network()\n",
        "\n",
        "# 出力\n",
        "y, z1 = forward(network, x)\n",
        "\n",
        "# 誤差\n",
        "loss = functions.cross_entropy_error(d, y)\n",
        "\n",
        "## 表示\n",
        "print(\"\\n##### 結果表示 #####\")\n",
        "print_vec(\"出力\", y)\n",
        "print_vec(\"訓練データ\", d)\n",
        "print_vec(\"誤差\",  loss)\n",
        "\n"
      ],
      "execution_count": 47,
      "outputs": [
        {
          "output_type": "stream",
          "text": [
            "##### ネットワークの初期化 #####\n",
            "*** 重み1 ***\n",
            "[[0.01621722 0.84034712 0.10039044 0.74503117 0.68283422]\n",
            " [0.69195635 0.70745101 0.16990678 0.87657798 0.07127271]\n",
            " [0.72221437 0.80276661 0.11962835 0.96166115 0.79733358]]\n",
            "shape: (3, 5)\n",
            "\n",
            "*** 重み2 ***\n",
            "[[0.83969372 0.4324945  0.12455701 0.65365165]\n",
            " [0.64985458 0.10969922 0.54659451 0.2916616 ]\n",
            " [0.59627653 0.27555116 0.63041954 0.3289409 ]\n",
            " [0.52573302 0.12666914 0.54399239 0.42960243]\n",
            " [0.39017414 0.96817008 0.77256118 0.33903983]]\n",
            "shape: (5, 4)\n",
            "\n",
            "*** バイアス1 ***\n",
            "[0.2462972  0.24238565 0.69159712 0.61744691 0.01904137]\n",
            "shape: (5,)\n",
            "\n",
            "*** バイアス2 ***\n",
            "[0.37114676 0.93242507 0.31738593 0.43909725]\n",
            "shape: (4,)\n",
            "\n",
            "##### 順伝播開始 #####\n",
            "*** 総入力1 ***\n",
            "[3.81307024 4.90593463 1.49068616 6.00061749 3.23642175]\n",
            "\n",
            "*** 中間層出力1 ***\n",
            "[3.81307024 4.90593463 1.49068616 6.00061749 3.23642175]\n",
            "\n",
            "*** 総入力2 ***\n",
            "[12.06745396  7.42399422 10.17826926  8.52789307]\n",
            "\n",
            "*** 出力1 ***\n",
            "[0.84044529 0.00808873 0.12707115 0.02439482]\n",
            "\n",
            "出力合計: 0.9999999999999999\n",
            "\n",
            "##### 結果表示 #####\n",
            "*** 出力 ***\n",
            "[0.84044529 0.00808873 0.12707115 0.02439482]\n",
            "\n",
            "*** 訓練データ ***\n",
            "[0 0 0 1 0]\n",
            "\n",
            "*** 誤差 ***\n",
            "5.5125639906111\n",
            "\n"
          ],
          "name": "stdout"
        }
      ]
    },
    {
      "cell_type": "markdown",
      "metadata": {
        "id": "pN2ldtNRfL-r"
      },
      "source": [
        "# 回帰（2-3-2ネットワーク）"
      ]
    },
    {
      "cell_type": "code",
      "metadata": {
        "id": "AwigBRlBe3eS",
        "colab": {
          "base_uri": "https://localhost:8080/"
        },
        "outputId": "3b0867c2-28e4-471a-e11a-68bac462cf03"
      },
      "source": [
        "# 回帰\n",
        "# 2-3-2ネットワーク\n",
        "\n",
        "# ！試してみよう_ノードの構成を 3-5-4 に変更してみよう\n",
        "\n",
        "# ウェイトとバイアスを設定\n",
        "# ネートワークを作成\n",
        "def init_network():\n",
        "    print(\"##### ネットワークの初期化 #####\")\n",
        "\n",
        "    network = {}\n",
        "    \"\"\"\n",
        "    network['W1'] = np.array([\n",
        "        [0.1, 0.3, 0.5],\n",
        "        [0.2, 0.4, 0.6]\n",
        "    ])\n",
        "    network['W2'] = np.array([\n",
        "        [0.1, 0.4],\n",
        "        [0.2, 0.5],\n",
        "        [0.3, 0.6]\n",
        "    ])\n",
        "    network['b1'] = np.array([0.1, 0.2, 0.3])\n",
        "    network['b2'] = np.array([0.1, 0.2])\n",
        "    \"\"\"\n",
        "\n",
        "    network['W1'] = np.random.rand(3,5)\n",
        "    network['W2'] = np.random.rand(5,4)\n",
        "    network['b1'] = np.random.rand(5)\n",
        "    network['b2'] = np.random.rand(4)\n",
        "    \n",
        "    print_vec(\"重み1\", network['W1'] )\n",
        "    print_vec(\"重み2\", network['W2'] )\n",
        "    print_vec(\"バイアス1\", network['b1'] )\n",
        "    print_vec(\"バイアス2\", network['b2'] )\n",
        "\n",
        "    return network\n",
        "\n",
        "# プロセスを作成\n",
        "def forward(network, x):\n",
        "    print(\"##### 順伝播開始 #####\")\n",
        "    \n",
        "    W1, W2 = network['W1'], network['W2']\n",
        "    b1, b2 = network['b1'], network['b2']\n",
        "    # 隠れ層の総入力\n",
        "    u1 = np.dot(x, W1) + b1\n",
        "    # 隠れ層の総出力\n",
        "    z1 = functions.relu(u1)\n",
        "    # 出力層の総入力\n",
        "    u2 = np.dot(z1, W2) + b2\n",
        "    # 出力層の総出力\n",
        "    y = u2\n",
        "    \n",
        "    print_vec(\"総入力1\", u1)\n",
        "    print_vec(\"中間層出力1\", z1)\n",
        "    print_vec(\"総入力2\", u2)\n",
        "    print_vec(\"出力1\", y)\n",
        "    print(\"出力合計: \" + str(np.sum(z1)))\n",
        "    \n",
        "    return y, z1\n",
        "\n",
        "# 入力値\n",
        "#x = np.array([1., 2.])\n",
        "x = np.array([1., 2., 3.])\n",
        "network =  init_network()\n",
        "y, z1 = forward(network, x)\n",
        "# 目標出力\n",
        "d = np.array([2., 4., 3., 1.])\n",
        "# 誤差\n",
        "loss = functions.mean_squared_error(d, y)\n",
        "## 表示\n",
        "print(\"\\n##### 結果表示 #####\")\n",
        "print_vec(\"中間層出力\", z1)\n",
        "print_vec(\"出力\", y)\n",
        "print_vec(\"訓練データ\", d)\n",
        "print_vec(\"誤差\",  loss)\n"
      ],
      "execution_count": 48,
      "outputs": [
        {
          "output_type": "stream",
          "text": [
            "##### ネットワークの初期化 #####\n",
            "*** 重み1 ***\n",
            "[[0.32503559 0.8286645  0.09931416 0.50385225 0.8252113 ]\n",
            " [0.7528989  0.0057881  0.86015703 0.61042787 0.30403463]\n",
            " [0.84115971 0.7024655  0.74808258 0.3500353  0.34648239]]\n",
            "\n",
            "*** 重み2 ***\n",
            "[[0.82928208 0.1044725  0.64930234 0.29254832]\n",
            " [0.89718577 0.026718   0.85377424 0.24700399]\n",
            " [0.59510588 0.69253745 0.50289734 0.6616324 ]\n",
            " [0.20586665 0.33206087 0.5162839  0.24347878]\n",
            " [0.47597758 0.837421   0.25746329 0.60987527]]\n",
            "\n",
            "*** バイアス1 ***\n",
            "[0.7493871  0.6610911  0.69621588 0.37006393 0.33545794]\n",
            "\n",
            "*** バイアス2 ***\n",
            "[0.93186923 0.07768597 0.6128156  0.58882101]\n",
            "\n",
            "##### 順伝播開始 #####\n",
            "*** 総入力1 ***\n",
            "[5.10369962 3.60872831 4.76009186 3.1448778  2.80818566]\n",
            "\n",
            "*** 中間層出力1 ***\n",
            "[5.10369962 3.60872831 4.76009186 3.1448778  2.80818566]\n",
            "\n",
            "*** 総入力2 ***\n",
            "[13.21879307  7.39976661 11.74819099  8.60105509]\n",
            "\n",
            "*** 出力1 ***\n",
            "[13.21879307  7.39976661 11.74819099  8.60105509]\n",
            "\n",
            "出力合計: 19.425583258769443\n",
            "\n",
            "##### 結果表示 #####\n",
            "*** 中間層出力 ***\n",
            "[5.10369962 3.60872831 4.76009186 3.1448778  2.80818566]\n",
            "\n",
            "*** 出力 ***\n",
            "[13.21879307  7.39976661 11.74819099  8.60105509]\n",
            "\n",
            "*** 訓練データ ***\n",
            "[2. 4. 3. 1.]\n",
            "\n",
            "*** 誤差 ***\n",
            "33.9658268740703\n",
            "\n"
          ],
          "name": "stdout"
        }
      ]
    },
    {
      "cell_type": "markdown",
      "metadata": {
        "id": "w0anM_0RfQqj"
      },
      "source": [
        "# 2値分類（2-3-1ネットワーク）"
      ]
    },
    {
      "cell_type": "code",
      "metadata": {
        "id": "Zm2-u-UNe3eU",
        "colab": {
          "base_uri": "https://localhost:8080/"
        },
        "outputId": "c9f1fcd4-003e-4981-d140-62bd15b79d72"
      },
      "source": [
        "# 2値分類\n",
        "# 2-3-1ネットワーク\n",
        "\n",
        "# ！試してみよう_ノードの構成を 5-10-1 に変更してみよう\n",
        "\n",
        "# ウェイトとバイアスを設定\n",
        "# ネートワークを作成\n",
        "def init_network():\n",
        "    print(\"##### ネットワークの初期化 #####\")\n",
        "\n",
        "    network = {}\n",
        "    \"\"\"\n",
        "    network['W1'] = np.array([\n",
        "        [0.1, 0.3, 0.5],\n",
        "        [0.2, 0.4, 0.6]\n",
        "    ])\n",
        "    network['W2'] = np.array([\n",
        "        [0.2],\n",
        "        [0.4],\n",
        "        [0.6]\n",
        "    ])\n",
        "    network['b1'] = np.array([0.1, 0.2, 0.3])\n",
        "    network['b2'] = np.array([0.1])\n",
        "    \"\"\"\n",
        "    network['W1'] = np.random.rand(5,10)\n",
        "    network['W2'] = np.random.rand(10,1)\n",
        "    network['b1'] = np.random.rand(10)\n",
        "    network['b2'] = np.random.rand(1)\n",
        "    return network\n",
        "\n",
        "\n",
        "# プロセスを作成\n",
        "def forward(network, x):\n",
        "    print(\"##### 順伝播開始 #####\")\n",
        "    \n",
        "    W1, W2 = network['W1'], network['W2']\n",
        "    b1, b2 = network['b1'], network['b2']    \n",
        "\n",
        "    # 隠れ層の総入力\n",
        "    u1 = np.dot(x, W1) + b1\n",
        "    # 隠れ層の総出力\n",
        "    z1 = functions.relu(u1)\n",
        "    # 出力層の総入力\n",
        "    u2 = np.dot(z1, W2) + b2\n",
        "    # 出力層の総出力\n",
        "    y = functions.sigmoid(u2)\n",
        "            \n",
        "    print_vec(\"総入力1\", u1)\n",
        "    print_vec(\"中間層出力1\", z1)\n",
        "    print_vec(\"総入力2\", u2)\n",
        "    print_vec(\"出力1\", y)\n",
        "    print(\"出力合計: \" + str(np.sum(z1)))\n",
        "\n",
        "    return y, z1\n",
        "\n",
        "\n",
        "# 入力値\n",
        "#x = np.array([1., 2.])\n",
        "x = np.array([1., 2., 3., 4., 5.])\n",
        "# 目標出力\n",
        "d = np.array([3])\n",
        "network =  init_network()\n",
        "y, z1 = forward(network, x)\n",
        "# 誤差\n",
        "loss = functions.cross_entropy_error(d, y)\n",
        "\n",
        "## 表示\n",
        "print(\"\\n##### 結果表示 #####\")\n",
        "print_vec(\"中間層出力\", z1)\n",
        "print_vec(\"出力\", y)\n",
        "print_vec(\"訓練データ\", d)\n",
        "print_vec(\"誤差\",  loss)"
      ],
      "execution_count": 49,
      "outputs": [
        {
          "output_type": "stream",
          "text": [
            "##### ネットワークの初期化 #####\n",
            "##### 順伝播開始 #####\n",
            "*** 総入力1 ***\n",
            "[ 8.1954869   5.58022803  9.70075611  5.31832661  7.55673194  4.59941891\n",
            "  8.99409643  7.32257932  9.16868921 12.11996104]\n",
            "\n",
            "*** 中間層出力1 ***\n",
            "[ 8.1954869   5.58022803  9.70075611  5.31832661  7.55673194  4.59941891\n",
            "  8.99409643  7.32257932  9.16868921 12.11996104]\n",
            "\n",
            "*** 総入力2 ***\n",
            "[44.96789371]\n",
            "\n",
            "*** 出力1 ***\n",
            "[1.]\n",
            "\n",
            "出力合計: 78.55627451685008\n",
            "\n",
            "##### 結果表示 #####\n",
            "*** 中間層出力 ***\n",
            "[ 8.1954869   5.58022803  9.70075611  5.31832661  7.55673194  4.59941891\n",
            "  8.99409643  7.32257932  9.16868921 12.11996104]\n",
            "\n",
            "*** 出力 ***\n",
            "[1.]\n",
            "\n",
            "*** 訓練データ ***\n",
            "[3]\n",
            "\n",
            "*** 誤差 ***\n",
            "-9.999999505838704e-08\n",
            "\n"
          ],
          "name": "stdout"
        }
      ]
    }
  ]
}