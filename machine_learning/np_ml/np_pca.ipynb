{
  "nbformat": 4,
  "nbformat_minor": 0,
  "metadata": {
    "kernelspec": {
      "name": "python3",
      "display_name": "Python 3"
    },
    "language_info": {
      "codemirror_mode": {
        "name": "ipython",
        "version": 3
      },
      "file_extension": ".py",
      "mimetype": "text/x-python",
      "name": "python",
      "nbconvert_exporter": "python",
      "pygments_lexer": "ipython3",
      "version": "3.6.5"
    },
    "colab": {
      "name": "np_pca.ipynb",
      "provenance": [],
      "collapsed_sections": [],
      "include_colab_link": true
    },
    "accelerator": "GPU"
  },
  "cells": [
    {
      "cell_type": "markdown",
      "metadata": {
        "id": "view-in-github",
        "colab_type": "text"
      },
      "source": [
        "<a href=\"https://colab.research.google.com/github/peta-m175/rabbit_challenge/blob/master/machine_learning/np_ml/np_pca.ipynb\" target=\"_parent\"><img src=\"https://colab.research.google.com/assets/colab-badge.svg\" alt=\"Open In Colab\"/></a>"
      ]
    },
    {
      "cell_type": "markdown",
      "metadata": {
        "id": "BxDpv3_DHIs6"
      },
      "source": [
        "# 主成分分析"
      ]
    },
    {
      "cell_type": "code",
      "metadata": {
        "id": "e9pEI1ZOHIs7"
      },
      "source": [
        "%matplotlib inline\n",
        "import numpy as np\n",
        "import matplotlib.pyplot as plt"
      ],
      "execution_count": 1,
      "outputs": []
    },
    {
      "cell_type": "markdown",
      "metadata": {
        "id": "Y6J3_1DPHIs9"
      },
      "source": [
        "## 訓練データ生成"
      ]
    },
    {
      "cell_type": "code",
      "metadata": {
        "id": "0D_jWCLaHIs9"
      },
      "source": [
        "n_sample = 100\n",
        "\n",
        "def gen_data(n_sample):\n",
        "    mean = [0, 0]\n",
        "    cov = [[2, 0.7], [0.7, 1]]\n",
        "    return np.random.multivariate_normal(mean, cov, n_sample)\n",
        "\n",
        "def plt_data(X):\n",
        "    plt.scatter(X[:, 0], X[:, 1])\n",
        "    plt.xlim(-5, 5)\n",
        "    plt.ylim(-5, 5)"
      ],
      "execution_count": 2,
      "outputs": []
    },
    {
      "cell_type": "code",
      "metadata": {
        "id": "YeV3d5NGHIs_",
        "colab": {
          "base_uri": "https://localhost:8080/",
          "height": 265
        },
        "outputId": "443e9702-5ac3-4793-c93d-cd4ff8a05a98"
      },
      "source": [
        "X = gen_data(n_sample)\n",
        "plt_data(X)"
      ],
      "execution_count": 3,
      "outputs": [
        {
          "output_type": "display_data",
          "data": {
            "image/png": "[encoded data removed]",
            "text/plain": [
              "<Figure size 432x288 with 1 Axes>"
            ]
          },
          "metadata": {
            "tags": [],
            "needs_background": "light"
          }
        }
      ]
    },
    {
      "cell_type": "markdown",
      "metadata": {
        "id": "x8rieRe2HItB"
      },
      "source": [
        "## 学習"
      ]
    },
    {
      "cell_type": "markdown",
      "metadata": {
        "id": "BzdodU4vHItC"
      },
      "source": [
        "訓練データ$X = [\\boldsymbol{x}_{1}, \\boldsymbol{x}_{2}, ..., \\boldsymbol{x}_{n}]^{\\mathrm{T}}$に対して$\\mathbb{E}[\\boldsymbol{x}] = \\boldsymbol{0}$となるように変換する。\n",
        "\n",
        "すると、不偏共分散行列は$Var[\\boldsymbol{x}] = \\frac{1}{n-1} X^{\\mathrm{T}}X$と書ける。\n",
        "\n",
        "$Var[\\boldsymbol{x}]$を固有値分解し、固有値の大きい順に対応する固有ベクトルを第1主成分($\\boldsymbol{w}_{1}$), 第2主成分($\\boldsymbol{w}_{2}$), ...とよぶ。"
      ]
    },
    {
      "cell_type": "code",
      "metadata": {
        "scrolled": true,
        "id": "na6ux9U6HItD"
      },
      "source": [
        "n_components=2\n",
        "\n",
        "def get_moments(X):\n",
        "    mean = X.mean(axis=0)\n",
        "    stan_cov = np.dot((X - mean).T, X - mean) / (len(X) - 1)\n",
        "    return mean, stan_cov\n",
        "    \n",
        "def get_components(eigenvectors, n_components):\n",
        "#     W = eigenvectors[:, -n_components:]\n",
        "#     return W.T[::-1]\n",
        "    W = eigenvectors[:, ::-1][:, :n_components]\n",
        "    return W.T\n",
        "\n",
        "def plt_result(X, first, second):\n",
        "    plt.scatter(X[:, 0], X[:, 1])\n",
        "    plt.xlim(-5, 5)\n",
        "    plt.ylim(-5, 5)\n",
        "    # 第１主成分\n",
        "    plt.quiver(0, 0, first[0], first[1], width=0.01, scale=6, color='red')\n",
        "    # 第２主成分\n",
        "    plt.quiver(0, 0, second[0], second[1], width=0.01, scale=6, color='green')"
      ],
      "execution_count": 4,
      "outputs": []
    },
    {
      "cell_type": "code",
      "metadata": {
        "id": "F0b0zkkDHItE",
        "colab": {
          "base_uri": "https://localhost:8080/",
          "height": 265
        },
        "outputId": "105b8d8c-d2be-46d8-bfd6-7700db466676"
      },
      "source": [
        "#分散共分散行列を標準化\n",
        "meean, stan_cov = get_moments(X)\n",
        "#固有値と固有ベクトルを計算\n",
        "eigenvalues, eigenvectors = np.linalg.eigh(stan_cov)\n",
        "components = get_components(eigenvectors, n_components)\n",
        "\n",
        "plt_result(X, eigenvectors[0, :], eigenvectors[1, :])"
      ],
      "execution_count": 5,
      "outputs": [
        {
          "output_type": "display_data",
          "data": {
            "image/png": "[encoded data removed]",
            "text/plain": [
              "<Figure size 432x288 with 1 Axes>"
            ]
          },
          "metadata": {
            "tags": [],
            "needs_background": "light"
          }
        }
      ]
    },
    {
      "cell_type": "markdown",
      "metadata": {
        "id": "Zn3g0_taHItG"
      },
      "source": [
        "## 変換（射影）"
      ]
    },
    {
      "cell_type": "markdown",
      "metadata": {
        "id": "zc3PXuOOHItH"
      },
      "source": [
        "元のデータを$m$次元に変換(射影)するときは行列$W$を$W=[\\boldsymbol{w}_{1}, \\boldsymbol{w}_{2}, \\cdots, \\boldsymbol{w}_{m}]$とし、データ点$\\boldsymbol{x}$を$\\boldsymbol{z} = W^{\\mathrm{T}} \\boldsymbol{x}$によって変換(射影)する。\n",
        "\n",
        "よって、データ$X$に対しては$Z = X^{\\mathrm{T}}W$によって変換する。"
      ]
    },
    {
      "cell_type": "code",
      "metadata": {
        "id": "GKAJPQbdHItH"
      },
      "source": [
        "def transform_by_pca(X, pca):\n",
        "    mean = X.mean(axis=0)\n",
        "    return np.dot(X-mean, components)"
      ],
      "execution_count": 6,
      "outputs": []
    },
    {
      "cell_type": "code",
      "metadata": {
        "id": "Tnv_2cpXHItJ",
        "colab": {
          "base_uri": "https://localhost:8080/",
          "height": 282
        },
        "outputId": "77fb911d-3763-4317-8ab6-ae0921d5be4d"
      },
      "source": [
        "Z = transform_by_pca(X, components.T)\n",
        "plt.scatter(Z[:, 0], Z[:, 1])\n",
        "plt.xlim(-5, 5)\n",
        "plt.ylim(-5, 5)"
      ],
      "execution_count": 7,
      "outputs": [
        {
          "output_type": "execute_result",
          "data": {
            "text/plain": [
              "(-5.0, 5.0)"
            ]
          },
          "metadata": {
            "tags": []
          },
          "execution_count": 7
        },
        {
          "output_type": "display_data",
          "data": {
            "image/png": "[encoded data removed]",
            "text/plain": [
              "<Figure size 432x288 with 1 Axes>"
            ]
          },
          "metadata": {
            "tags": [],
            "needs_background": "light"
          }
        }
      ]
    },
    {
      "cell_type": "markdown",
      "metadata": {
        "collapsed": true,
        "id": "8nlTr8pEHItK"
      },
      "source": [
        "## 逆変換"
      ]
    },
    {
      "cell_type": "markdown",
      "metadata": {
        "id": "Eyhk2wLnHItL"
      },
      "source": [
        "射影されたデータ点$\\boldsymbol{z}$を元のデータ空間へ逆変換するときは$\\bar{\\boldsymbol{x}} = (W^{\\mathrm{T}})^{-1} \\boldsymbol{z} = W \\boldsymbol{z}$によって変換する。\n",
        "\n",
        "よって、射影されたデータ$Z$に対しては$\\bar{X} = ZW^{\\mathrm{T}}$によって変換する。"
      ]
    },
    {
      "cell_type": "code",
      "metadata": {
        "id": "2S9E1AUMHItL"
      },
      "source": [
        "mean = X.mean(axis=0)\n",
        "X_ = np.dot(Z, components.T) + mean"
      ],
      "execution_count": 8,
      "outputs": []
    },
    {
      "cell_type": "code",
      "metadata": {
        "id": "zr03v27lHItN",
        "colab": {
          "base_uri": "https://localhost:8080/",
          "height": 282
        },
        "outputId": "3991397f-a942-4846-92ab-07ce0725179b"
      },
      "source": [
        "plt.scatter(X_[:, 0], X_[:, 1])\n",
        "plt.xlim(-5, 5)\n",
        "plt.ylim(-5, 5)"
      ],
      "execution_count": 9,
      "outputs": [
        {
          "output_type": "execute_result",
          "data": {
            "text/plain": [
              "(-5.0, 5.0)"
            ]
          },
          "metadata": {
            "tags": []
          },
          "execution_count": 9
        },
        {
          "output_type": "display_data",
          "data": {
            "image/png": "[encoded data removed]",
            "text/plain": [
              "<Figure size 432x288 with 1 Axes>"
            ]
          },
          "metadata": {
            "tags": [],
            "needs_background": "light"
          }
        }
      ]
    },
    {
      "cell_type": "code",
      "metadata": {
        "id": "pd6SI7LJHItP",
        "colab": {
          "base_uri": "https://localhost:8080/"
        },
        "outputId": "4b4541ef-c41b-4526-dcf0-7be42b21cef0"
      },
      "source": [
        "from sklearn.decomposition import PCA\n",
        "pca = PCA(n_components=2)\n",
        "pca.fit(X)"
      ],
      "execution_count": 10,
      "outputs": [
        {
          "output_type": "execute_result",
          "data": {
            "text/plain": [
              "PCA(copy=True, iterated_power='auto', n_components=2, random_state=None,\n",
              "    svd_solver='auto', tol=0.0, whiten=False)"
            ]
          },
          "metadata": {
            "tags": []
          },
          "execution_count": 10
        }
      ]
    },
    {
      "cell_type": "code",
      "metadata": {
        "id": "L1HVkjAyHItQ",
        "colab": {
          "base_uri": "https://localhost:8080/"
        },
        "outputId": "3f35dad5-5e3a-439f-ec5b-808c7df2e84f"
      },
      "source": [
        "print('components: {}'.format(pca.components_))\n",
        "print('mean: {}'.format(pca.mean_))\n",
        "print('covariance: {}'.format(pca.get_covariance())) "
      ],
      "execution_count": 11,
      "outputs": [
        {
          "output_type": "stream",
          "text": [
            "components: [[ 0.86148641  0.50778063]\n",
            " [-0.50778063  0.86148641]]\n",
            "mean: [-0.04229667 -0.09698314]\n",
            "covariance: [[1.91180466 0.79411429]\n",
            " [0.79411429 1.03260248]]\n"
          ],
          "name": "stdout"
        }
      ]
    },
    {
      "cell_type": "code",
      "metadata": {
        "id": "nTmC9xhQHItS",
        "colab": {
          "base_uri": "https://localhost:8080/",
          "height": 265
        },
        "outputId": "1b461bfb-248c-40ad-a40d-e376bca1a6a8"
      },
      "source": [
        "plt_result(X, pca.components_[0, :], pca.components_[1, :])"
      ],
      "execution_count": 12,
      "outputs": [
        {
          "output_type": "display_data",
          "data": {
            "image/png": "[encoded data removed]",
            "text/plain": [
              "<Figure size 432x288 with 1 Axes>"
            ]
          },
          "metadata": {
            "tags": [],
            "needs_background": "light"
          }
        }
      ]
    },
    {
      "cell_type": "code",
      "metadata": {
        "id": "VsdHEhQ9HItU",
        "colab": {
          "base_uri": "https://localhost:8080/",
          "height": 350
        },
        "outputId": "5110e17a-7600-4c5d-d734-7a0628cd8889"
      },
      "source": [
        "from sklearn.decomposition import PCA\n",
        "pca = PCA(n_components=2)\n",
        "pca.fit(X)\n",
        "plt_result(X, pca.components_[0, :], pca.components_[1, :])\n",
        "\n",
        "print('components: {}'.format(pca.components_))\n",
        "print('mean: {}'.format(pca.mean_))\n",
        "print('covariance: {}'.format(pca.get_covariance()))\n"
      ],
      "execution_count": 13,
      "outputs": [
        {
          "output_type": "stream",
          "text": [
            "components: [[ 0.86148641  0.50778063]\n",
            " [-0.50778063  0.86148641]]\n",
            "mean: [-0.04229667 -0.09698314]\n",
            "covariance: [[1.91180466 0.79411429]\n",
            " [0.79411429 1.03260248]]\n"
          ],
          "name": "stdout"
        },
        {
          "output_type": "display_data",
          "data": {
            "image/png": "[encoded data removed]",
            "text/plain": [
              "<Figure size 432x288 with 1 Axes>"
            ]
          },
          "metadata": {
            "tags": [],
            "needs_background": "light"
          }
        }
      ]
    },
    {
      "cell_type": "code",
      "metadata": {
        "id": "ANZp2hZPHItW"
      },
      "source": [
        ""
      ],
      "execution_count": 13,
      "outputs": []
    }
  ]
}