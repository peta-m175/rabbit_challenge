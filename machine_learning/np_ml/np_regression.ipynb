{
  "nbformat": 4,
  "nbformat_minor": 0,
  "metadata": {
    "kernelspec": {
      "name": "python3",
      "display_name": "Python 3"
    },
    "language_info": {
      "codemirror_mode": {
        "name": "ipython",
        "version": 3
      },
      "file_extension": ".py",
      "mimetype": "text/x-python",
      "name": "python",
      "nbconvert_exporter": "python",
      "pygments_lexer": "ipython3",
      "version": "3.6.5"
    },
    "colab": {
      "name": "np_regression.ipynb",
      "provenance": [],
      "collapsed_sections": [],
      "include_colab_link": true
    },
    "accelerator": "GPU"
  },
  "cells": [
    {
      "cell_type": "markdown",
      "metadata": {
        "id": "view-in-github",
        "colab_type": "text"
      },
      "source": [
        "<a href=\"https://colab.research.google.com/github/peta-m175/rabbit_challenge/blob/master/machine_learning/np_ml/np_regression.ipynb\" target=\"_parent\"><img src=\"https://colab.research.google.com/assets/colab-badge.svg\" alt=\"Open In Colab\"/></a>"
      ]
    },
    {
      "cell_type": "markdown",
      "metadata": {
        "id": "bk4GTn-iHSAD"
      },
      "source": [
        "# 回帰分析"
      ]
    },
    {
      "cell_type": "code",
      "metadata": {
        "id": "0sO431xmHSAE"
      },
      "source": [
        "%matplotlib inline\n",
        "import numpy as np\n",
        "import matplotlib.pyplot as plt"
      ],
      "execution_count": 1,
      "outputs": []
    },
    {
      "cell_type": "markdown",
      "metadata": {
        "id": "1KEGbz8zHSAP"
      },
      "source": [
        "# 単回帰"
      ]
    },
    {
      "cell_type": "markdown",
      "metadata": {
        "id": "ZGpUibElHSAQ"
      },
      "source": [
        "## 訓練データ生成"
      ]
    },
    {
      "cell_type": "code",
      "metadata": {
        "id": "nS30gFWLHSAR"
      },
      "source": [
        "n_sample = 100\n",
        "var = .2\n",
        "\n",
        "def linear_func(x):\n",
        "    return 2 * x + 5\n",
        "\n",
        "def add_noise(y_true, var):\n",
        "    return y_true + np.random.normal(scale=var, size=y_true.shape)\n",
        "\n",
        "def plt_result(xs_train, ys_true, ys_train):\n",
        "    plt.scatter(xs_train, ys_train, facecolor=\"none\", edgecolor=\"b\", s=50,  label=\"training data\")\n",
        "    plt.plot(xs_train, ys_true, label=\"$2 x + 5$\")\n",
        "    plt.legend()"
      ],
      "execution_count": 2,
      "outputs": []
    },
    {
      "cell_type": "code",
      "metadata": {
        "id": "btf9omCHHSAS",
        "colab": {
          "base_uri": "https://localhost:8080/",
          "height": 316
        },
        "outputId": "3d110629-f3f7-4e73-f53d-4ed5f5f192f2"
      },
      "source": [
        "#データの作成\n",
        "xs = np.linspace(0, 1, n_sample)\n",
        "ys_true = linear_func(xs)\n",
        "ys = add_noise(ys_true, var)\n",
        "\n",
        "print(\"xs: {}\".format(xs.shape))\n",
        "print(\"ys_true: {}\".format(ys_true.shape))\n",
        "print(\"ys: {}\".format(ys.shape))\n",
        "\n",
        "#結果の描画\n",
        "plt_result(xs, ys_true, ys)"
      ],
      "execution_count": 3,
      "outputs": [
        {
          "output_type": "stream",
          "text": [
            "xs: (100,)\n",
            "ys_true: (100,)\n",
            "ys: (100,)\n"
          ],
          "name": "stdout"
        },
        {
          "output_type": "display_data",
          "data": {
            "image/png": "[encoded data removed]",
            "text/plain": [
              "<Figure size 432x288 with 1 Axes>"
            ]
          },
          "metadata": {
            "tags": [],
            "needs_background": "light"
          }
        }
      ]
    },
    {
      "cell_type": "markdown",
      "metadata": {
        "id": "CeDSadB3HSAV"
      },
      "source": [
        "## 学習"
      ]
    },
    {
      "cell_type": "markdown",
      "metadata": {
        "id": "T6-dkGDkHSAW"
      },
      "source": [
        "１次関数$y(x) = a x + b$における、$a$と$b$を求める。\n",
        "\n",
        "訓練データ$X = [x_{1}, x_{2}, ..., x_{n}]^{\\mathrm{T}}, \\boldsymbol{y} = [y_{1}, y_{2}, ..., y_{n}]^{\\mathrm{T}}$に対して、最小化する目的関数は$L = \\sum_{i=1}^{n} \\left( y_{i} - (a x_{i} + b) \\right)^2$と書け、\n",
        "\n",
        "$\\frac{\\partial L}{\\partial a} = -2\\sum_{i=1}^{n} \\left( y_{i} - (a x_{i} + b) \\right) x_{i} = 0$\n",
        "\n",
        "$\\frac{\\partial L}{\\partial b} = -2\\sum_{i=1}^{n} \\left( y_{i} - (a x_{i} + b) \\right) = 0 \\cdots (1)$\n",
        "\n",
        "より、目的関数を最小にする$a, b$は以下のように求まる。\n",
        "\n",
        "\\begin{eqnarray}\n",
        "\\left( \n",
        "\\begin{array}{cc}\n",
        "\\sum_{i=1}^{n} x_{i}^{2} & \\sum_{i=1}^{n} x_{i} \\\\\n",
        "\\sum_{i=1}^{n} x_{i} & n\n",
        "\\end{array}\n",
        "\\right)\n",
        "\\left( \n",
        "\\begin{array}{cc}\n",
        "\\hat{a} \\\\\n",
        "\\hat{b}  \n",
        "\\end{array}\n",
        "\\right)\n",
        "&=&\n",
        "\\left( \n",
        "\\begin{array}{cc}\n",
        "\\sum_{i=1}^{n} x_{i} y_{i} \\\\\n",
        "\\sum_{i=1}^{n} y_{i}  \n",
        "\\end{array}\n",
        "\\right) \\\\ \n",
        "\\left( \n",
        "\\begin{array}{cc}\n",
        "\\hat{a} \\\\\n",
        "\\hat{b}  \n",
        "\\end{array}\n",
        "\\right)\n",
        "&=&\n",
        "\\frac{1}{n \\sum_{i=1}^{n} x_{i}^{2} - (\\sum_{i=1}^{n} x_{i})^{2}}\n",
        "\\left( \n",
        "\\begin{array}{cc}\n",
        "n & -\\sum_{i=1}^{n} x_{i} \\\\\n",
        "-\\sum_{i=1}^{n} x_{i} & \\sum_{i=1}^{n} x_{i}^{2}\n",
        "\\end{array}\n",
        "\\right)\n",
        "\\left( \n",
        "\\begin{array}{cc}\n",
        "\\sum_{i=1}^{n} x_{i} y_{i} \\\\\n",
        "\\sum_{i=1}^{n} y_{i}  \n",
        "\\end{array}\n",
        "\\right) \\\\\n",
        "&=&\n",
        "\\frac{1}{n \\sum_{i=1}^{n} x_{i}^{2} - (\\sum_{i=1}^{n} x_{i})^{2}}\n",
        "\\left( \n",
        "\\begin{array}{cc}\n",
        "n \\sum_{i=1}^{n} x_{i} y_{i} - \\sum_{i=1}^{n} x_{i} \\sum_{i=1}^{n} y_{i}\\\\\n",
        "\\sum_{i=1}^{n} x_{i}^{2} \\sum_{i=1}^{n} y_{i} -\\sum_{i=1}^{n} x_{i} \\sum_{i=1}^{n} x_{i} y_{i}\n",
        "\\end{array}\n",
        "\\right) \\cdots (2)\n",
        "\\end{eqnarray}\n",
        "\n",
        "(1), (2)から$\\hat{a} = \\text{Cov}[x, y] / \\text{Var}[x], \\hat{b} = \\mu_{y} - \\hat{a} \\mu_{x}$で求める。"
      ]
    },
    {
      "cell_type": "code",
      "metadata": {
        "id": "N9U2bOsvHSAW",
        "colab": {
          "base_uri": "https://localhost:8080/"
        },
        "outputId": "04644cc0-b14c-4ac6-b9c6-02a229d04451"
      },
      "source": [
        "#numpy実装の回帰\n",
        "def train(xs, ys):\n",
        "    cov = np.cov(xs, ys, ddof=0)\n",
        "    a = cov[0, 1] / cov[0, 0]\n",
        "    b = np.mean(ys) - a * np.mean(xs)\n",
        "    return cov, a, b\n",
        "\n",
        "cov, a, b = train(xs, ys)\n",
        "print(\"cov: {}\".format(cov))\n",
        "print(\"coef: {}\".format(a))\n",
        "print(\"intercept: {}\".format(b))"
      ],
      "execution_count": 4,
      "outputs": [
        {
          "output_type": "stream",
          "text": [
            "cov: [[0.08501684 0.15561358]\n",
            " [0.15561358 0.32902185]]\n",
            "coef: 1.8303854488350368\n",
            "intercept: 5.047638114923673\n"
          ],
          "name": "stdout"
        }
      ]
    },
    {
      "cell_type": "code",
      "metadata": {
        "id": "vzLGthCcHSAY",
        "colab": {
          "base_uri": "https://localhost:8080/"
        },
        "outputId": "0cd5d91f-f947-476a-982c-eae62db17d1f"
      },
      "source": [
        "#skl実装の回帰\n",
        "from sklearn.linear_model import LinearRegression\n",
        "model = LinearRegression()\n",
        "reg = model.fit(xs.reshape(-1, 1), ys.reshape(-1, 1))\n",
        "\n",
        "print(\"coef_: {}\".format(reg.coef_))\n",
        "print(\"intercept_: {}\".format(reg.intercept_))"
      ],
      "execution_count": 5,
      "outputs": [
        {
          "output_type": "stream",
          "text": [
            "coef_: [[1.83038545]]\n",
            "intercept_: [5.04763811]\n"
          ],
          "name": "stdout"
        }
      ]
    },
    {
      "cell_type": "markdown",
      "metadata": {
        "id": "nkIRiLImHSAa"
      },
      "source": [
        "## 予測"
      ]
    },
    {
      "cell_type": "markdown",
      "metadata": {
        "id": "Dka3bJazHSAa"
      },
      "source": [
        "入力に対する値を$y(x) = a x + b$で予測する"
      ]
    },
    {
      "cell_type": "code",
      "metadata": {
        "id": "cHIpbeYyHSAb",
        "colab": {
          "base_uri": "https://localhost:8080/",
          "height": 265
        },
        "outputId": "159fa79b-da0c-4539-e7ff-816e93029dc3"
      },
      "source": [
        "xs_new = np.linspace(0, 1, n_sample)\n",
        "ys_pred = a * xs_new + b\n",
        "\n",
        "plt.scatter(xs, ys, facecolor=\"none\", edgecolor=\"b\", s=50, label=\"training data\")\n",
        "plt.plot(xs_new, ys_true, label=\"$2 x + 5$\")\n",
        "plt.plot(xs_new, ys_pred, label=\"prediction (a={:.2}, b={:.2})\".format(a, b))\n",
        "plt.legend()\n",
        "plt.show()"
      ],
      "execution_count": 6,
      "outputs": [
        {
          "output_type": "display_data",
          "data": {
            "image/png": "[encoded data removed]",
            "text/plain": [
              "<Figure size 432x288 with 1 Axes>"
            ]
          },
          "metadata": {
            "tags": [],
            "needs_background": "light"
          }
        }
      ]
    },
    {
      "cell_type": "markdown",
      "metadata": {
        "id": "lEN6PthPHSAd"
      },
      "source": [
        "# 多項式回帰"
      ]
    },
    {
      "cell_type": "markdown",
      "metadata": {
        "id": "jbbMMFebHSAd"
      },
      "source": [
        "## 訓練データ生成"
      ]
    },
    {
      "cell_type": "code",
      "metadata": {
        "id": "HZZu2pUdHSAe"
      },
      "source": [
        "n_sample = 10\n",
        "var = .25\n",
        "\n",
        "def sin_func(x):\n",
        "    return np.sin(2 * np.pi * x) \n",
        "\n",
        "def add_noise(y_true, var):\n",
        "    return y_true + np.random.normal(scale=var, size=y_true.shape)\n",
        "\n",
        "def plt_result(xs, ys_true, ys):\n",
        "    plt.scatter(xs, ys,facecolor=\"none\", edgecolor=\"b\", s=50,  label=\"training data\")\n",
        "    plt.plot(xs, ys_true, label=\"$\\sin(2\\pi x)$\")\n",
        "    plt.legend()"
      ],
      "execution_count": 7,
      "outputs": []
    },
    {
      "cell_type": "code",
      "metadata": {
        "id": "X-ZCQ9bsHSAh",
        "colab": {
          "base_uri": "https://localhost:8080/",
          "height": 316
        },
        "outputId": "d85de630-ef4b-4ec9-f7ea-07c5c34c20c4"
      },
      "source": [
        "#データの作成\n",
        "xs = np.linspace(0, 1, n_sample)\n",
        "ys_true = sin_func(xs)\n",
        "ys = add_noise(ys_true, var)\n",
        "\n",
        "print(\"xs: {}\".format(xs.shape))\n",
        "print(\"ys_true: {}\".format(ys_true.shape))\n",
        "print(\"ys: {}\".format(ys.shape))\n",
        "\n",
        "#結果の描画\n",
        "plt_result(xs, ys_true, ys)"
      ],
      "execution_count": 8,
      "outputs": [
        {
          "output_type": "stream",
          "text": [
            "xs: (10,)\n",
            "ys_true: (10,)\n",
            "ys: (10,)\n"
          ],
          "name": "stdout"
        },
        {
          "output_type": "display_data",
          "data": {
            "image/png": "[encoded data removed]",
            "text/plain": [
              "<Figure size 432x288 with 1 Axes>"
            ]
          },
          "metadata": {
            "tags": [],
            "needs_background": "light"
          }
        }
      ]
    },
    {
      "cell_type": "markdown",
      "metadata": {
        "id": "A5uKlEnhHSAi"
      },
      "source": [
        "## 学習"
      ]
    },
    {
      "cell_type": "markdown",
      "metadata": {
        "id": "LUNT75JZHSAj"
      },
      "source": [
        "モデルとして以下を用いる。\n",
        "\n",
        "$y(x) = \\sum_{i=0}^{d} w_{i} x^{i} = \\boldsymbol{w}^{\\mathrm{T}} \\boldsymbol{\\phi(x)}$\n",
        "\n",
        "ただし、$\\boldsymbol{w}=[w_{0}, w_{1}, ..., w_{d}]^{\\mathrm{T}}, \\boldsymbol{\\phi(x)} = [1, x, x^{2}, ..., x^{d}]^{\\mathrm{T}}$である。\n",
        "\n",
        "訓練データ$X, \\boldsymbol{y}$に対しては\n",
        "$\\boldsymbol{y} = \\Phi \\boldsymbol{w}$と書ける。\n",
        "\n",
        "ただし、$\\Phi = [\\boldsymbol{\\phi}(x_{1}), \\boldsymbol{\\phi}(x_{2}),.., \\boldsymbol{\\phi}(x_{n})]^{\\mathrm{T}}$である。\n",
        "\n",
        "よって、最小化する目的関数は$L = ||\\boldsymbol{y}  - \\Phi \\boldsymbol{w}||^2$と書け、\n",
        "\n",
        "$\\frac{\\partial L}{\\partial \\boldsymbol{w}} = - 2 \\Phi^{\\mathrm{T}} (\\boldsymbol{y} - \\Phi \\boldsymbol{w}) = 0$より、求める回帰係数$\\boldsymbol{w}$は以下のように書ける。\n",
        "\n",
        "$\\hat{\\boldsymbol{w}} = \\left( \\Phi^{\\mathrm{T}} \\Phi \\right)^{-1}  \\Phi^{\\mathrm{T}} \\boldsymbol{y}$"
      ]
    },
    {
      "cell_type": "code",
      "metadata": {
        "id": "OTuv5a95HSAj"
      },
      "source": [
        "def polynomial_features(xs, degree=3):\n",
        "    \"\"\"多項式特徴ベクトルに変換\n",
        "         X = [[1, x1, x1^2, x1^3],\n",
        "                 [1, x2, x2^2, x2^3],\n",
        "                   ...                             \n",
        "                 [1, xn, xn^2, xn^3]]\"\"\"\n",
        "    X = np.ones((len(xs), degree+1))\n",
        "    X_t = X.T #(100, 4)\n",
        "    for i in range(1, degree+1):\n",
        "        X_t[i] = X_t[i-1] * xs\n",
        "    return X_t.T"
      ],
      "execution_count": 9,
      "outputs": []
    },
    {
      "cell_type": "code",
      "metadata": {
        "id": "jRvWrZHNHSAl"
      },
      "source": [
        "Phi = polynomial_features(xs)\n",
        "Phi_inv = np.dot(np.linalg.inv(np.dot(Phi.T, Phi)), Phi.T)\n",
        "w = np.dot(Phi_inv, ys)"
      ],
      "execution_count": 10,
      "outputs": []
    },
    {
      "cell_type": "markdown",
      "metadata": {
        "id": "NfV_CGaGHSAm"
      },
      "source": [
        "## 予測"
      ]
    },
    {
      "cell_type": "markdown",
      "metadata": {
        "id": "tuV309d0HSAn"
      },
      "source": [
        "入力を多項式特徴ベクトル$\\boldsymbol{\\phi(x)}$に変換し、$y = \\hat{\\boldsymbol{w}} \\boldsymbol{\\phi(x)}\\  (\\boldsymbol{y}(x) = \\Phi \\hat{\\boldsymbol{w}})$で予測する。"
      ]
    },
    {
      "cell_type": "code",
      "metadata": {
        "id": "j6M59hw2HSAn"
      },
      "source": [
        "Phi_test = polynomial_features(xs)\n",
        "ys_pred = np.dot(Phi_test, w)"
      ],
      "execution_count": 11,
      "outputs": []
    },
    {
      "cell_type": "code",
      "metadata": {
        "id": "VQhx95HUHSAp",
        "colab": {
          "base_uri": "https://localhost:8080/",
          "height": 265
        },
        "outputId": "fea2f543-a6d2-426c-fe38-3a9e618905b5"
      },
      "source": [
        "plt.scatter(xs, ys, facecolor=\"none\", edgecolor=\"b\", s=50, label=\"training data\")\n",
        "plt.plot(xs, ys_true, label=\"$\\sin(2\\pi x)$\")\n",
        "plt.plot(xs, ys_pred, label=\"prediction\")\n",
        "# for i in range(0, 4):\n",
        "#     plt.plot(xs, Phi[:, i], label=\"basis\")\n",
        "plt.legend()\n",
        "plt.show()"
      ],
      "execution_count": 12,
      "outputs": [
        {
          "output_type": "display_data",
          "data": {
            "image/png": "[encoded data removed]",
            "text/plain": [
              "<Figure size 432x288 with 1 Axes>"
            ]
          },
          "metadata": {
            "tags": [],
            "needs_background": "light"
          }
        }
      ]
    },
    {
      "cell_type": "markdown",
      "metadata": {
        "id": "PiR6GJU1HSAq"
      },
      "source": [
        "# 重回帰分析"
      ]
    },
    {
      "cell_type": "markdown",
      "metadata": {
        "id": "VDBo3R08HSAr"
      },
      "source": [
        "## 訓練データ生成 (3次元入力)"
      ]
    },
    {
      "cell_type": "code",
      "metadata": {
        "id": "4fFRNHK7HSAr",
        "colab": {
          "base_uri": "https://localhost:8080/"
        },
        "outputId": "e070c5cc-e8a9-4bcb-c11b-f3cdf3def6e8"
      },
      "source": [
        "np.random.random((10, 3))"
      ],
      "execution_count": 13,
      "outputs": [
        {
          "output_type": "execute_result",
          "data": {
            "text/plain": [
              "array([[0.29271519, 0.04402422, 0.19142834],\n",
              "       [0.16673663, 0.99500099, 0.82245962],\n",
              "       [0.73863254, 0.93507832, 0.41408456],\n",
              "       [0.96775577, 0.58537901, 0.36880567],\n",
              "       [0.59070925, 0.6457309 , 0.89780707],\n",
              "       [0.69466891, 0.28252427, 0.09083421],\n",
              "       [0.6618974 , 0.0311984 , 0.44194164],\n",
              "       [0.5818374 , 0.79001667, 0.99160875],\n",
              "       [0.47609653, 0.06136712, 0.38907034],\n",
              "       [0.73590692, 0.93180451, 0.53933254]])"
            ]
          },
          "metadata": {
            "tags": []
          },
          "execution_count": 13
        }
      ]
    },
    {
      "cell_type": "code",
      "metadata": {
        "id": "FREQqxc9HSAt"
      },
      "source": [
        "n_sample = 100\n",
        "var = .2\n",
        "\n",
        "def mul_linear_func(x):\n",
        "    ww = [1., 0.5, 2., 1.]\n",
        "    return ww[0] + ww[1] * x[:, 0] + ww[2] * x[:, 1] + ww[3] * x[:, 2]\n",
        "\n",
        "def add_noise(y_true, var):\n",
        "    return y_true + np.random.normal(scale=var, size=y_true.shape)\n",
        "\n",
        "def plt_result(xs_train, ys_true, ys_train):\n",
        "    plt.scatter(xs_train, ys_train, facecolor=\"none\", edgecolor=\"b\", s=50,  label=\"training data\")\n",
        "    plt.plot(xs_train, ys_true, label=\"$2 x + 5$\")\n",
        "    plt.legend()"
      ],
      "execution_count": 14,
      "outputs": []
    },
    {
      "cell_type": "code",
      "metadata": {
        "id": "YC_OOJKvHSAv"
      },
      "source": [
        "x_dim = 3\n",
        "\n",
        "X = np.random.random((n_sample, x_dim))\n",
        "ys_true = mul_linear_func(X)\n",
        "ys = add_noise(ys_true, var)"
      ],
      "execution_count": 15,
      "outputs": []
    },
    {
      "cell_type": "markdown",
      "metadata": {
        "id": "IFSz-V6eHSAx"
      },
      "source": [
        "## 学習"
      ]
    },
    {
      "cell_type": "markdown",
      "metadata": {
        "id": "OCynMBleHSAy"
      },
      "source": [
        "モデルとして以下を用いる。\n",
        "\n",
        "$y(x) = \\sum_{i=0}^{d} w_{i} x_{i} = \\boldsymbol{w}^{\\mathrm{T}}  \\boldsymbol{x}$\n",
        "\n",
        "ただし、陽には書かないが、$\\boldsymbol{x}$には定数項のための$1$という要素があることを仮定する。\n",
        "\n",
        "訓練データ$X, \\boldsymbol{y}$に対しては$\\boldsymbol{y} = X \\boldsymbol{w}$と書ける。\n",
        "\n",
        "よって、最小化する目的関数は$L = ||\\boldsymbol{y}  - X \\boldsymbol{w}||^2$と書け、\n",
        "\n",
        "$\\frac{\\partial L}{\\partial \\boldsymbol{w}} = - 2 X^{\\mathrm{T}} (\\boldsymbol{y} - X \\boldsymbol{w}) = 0$より、求める回帰係数$\\boldsymbol{w}$は以下のように書ける。\n",
        "\n",
        "$\\hat{\\boldsymbol{w}} = \\left( X^{\\mathrm{T}} X \\right)^{-1}  X^{\\mathrm{T}} \\boldsymbol{y}$"
      ]
    },
    {
      "cell_type": "code",
      "metadata": {
        "id": "vS721xeEHSAy"
      },
      "source": [
        "def add_one(x):\n",
        "    return np.concatenate([np.ones(len(x))[:, None], x], axis=1)\n",
        "\n",
        "X_train = add_one(X)\n",
        "# pinv = np.dot(np.linalg.inv(np.dot(X_train.T, X_train)), X_train.T)\n",
        "# w = np.dot(pinv, y_train)"
      ],
      "execution_count": 16,
      "outputs": []
    },
    {
      "cell_type": "markdown",
      "metadata": {
        "id": "GEv5lMXnHSA2"
      },
      "source": [
        "## 予測"
      ]
    },
    {
      "cell_type": "markdown",
      "metadata": {
        "id": "xknsRJbIHSA2"
      },
      "source": [
        "入力に対する値を$y(x) = \\hat{\\boldsymbol{w}}^{\\mathrm{T}}  \\boldsymbol{x} \\ (\\boldsymbol{y} = X\\hat{\\boldsymbol{w}})$で予測する"
      ]
    },
    {
      "cell_type": "markdown",
      "metadata": {
        "id": "DfBqqomPHSA2"
      },
      "source": [
        "## パラメータ推定結果"
      ]
    },
    {
      "cell_type": "code",
      "metadata": {
        "id": "ayAK630nHSA5"
      },
      "source": [
        "ww = [1., 0.5, 2., 1.]"
      ],
      "execution_count": 17,
      "outputs": []
    },
    {
      "cell_type": "code",
      "metadata": {
        "id": "OGuRXijhHSA4",
        "colab": {
          "base_uri": "https://localhost:8080/"
        },
        "outputId": "3ffea667-5391-4a09-f0be-e06e58cdd0ac"
      },
      "source": [
        "for i in range(len(w)):\n",
        "    print(\"w{0}_true: {1:>5.2}   w{0}_estimated: {2:>5.2}\".format(i, ww[i], w[i]))"
      ],
      "execution_count": 18,
      "outputs": [
        {
          "output_type": "stream",
          "text": [
            "w0_true:   1.0   w0_estimated: -0.39\n",
            "w1_true:   0.5   w1_estimated: 1.2e+01\n",
            "w2_true:   2.0   w2_estimated: -3.3e+01\n",
            "w3_true:   1.0   w3_estimated: 2.2e+01\n"
          ],
          "name": "stdout"
        }
      ]
    }
  ]
}