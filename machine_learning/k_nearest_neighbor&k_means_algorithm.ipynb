{
  "nbformat": 4,
  "nbformat_minor": 0,
  "metadata": {
    "colab": {
      "name": " k-nearest_neighbor&k-means_algorithm.ipynb",
      "provenance": [],
      "collapsed_sections": [],
      "authorship_tag": "ABX9TyOP2bRXXW1kBUndvqRu/U7X",
      "include_colab_link": true
    },
    "kernelspec": {
      "name": "python3",
      "display_name": "Python 3"
    }
  },
  "cells": [
    {
      "cell_type": "markdown",
      "metadata": {
        "id": "view-in-github",
        "colab_type": "text"
      },
      "source": [
        "<a href=\"https://colab.research.google.com/github/peta-m175/rabbit_challenge/blob/master/machine_learning/k_nearest_neighbor%26k_means_algorithm.ipynb\" target=\"_parent\"><img src=\"https://colab.research.google.com/assets/colab-badge.svg\" alt=\"Open In Colab\"/></a>"
      ]
    },
    {
      "cell_type": "markdown",
      "metadata": {
        "id": "1sRHp0uIZKjB"
      },
      "source": [
        "# k近傍法(kNN)"
      ]
    },
    {
      "cell_type": "markdown",
      "metadata": {
        "id": "WnMDHwT5Zc1m"
      },
      "source": [
        "最近傍のデータを$k$個取り、多数決をして所属するクラスを識別\n",
        "\n",
        "kを大きくすると決定境界は滑らかになる"
      ]
    },
    {
      "cell_type": "markdown",
      "metadata": {
        "id": "CFBhpi780Tl0"
      },
      "source": [
        "識別ルール\n",
        "- rejectでなく、ランダムに割り当ててもいい\n",
        "$$\n",
        "識別クラス =\n",
        "  \\begin{cases}\n",
        "    j k_j=max\\{k_i,\\dots,k_K\\}\\\\\n",
        "    reject \\{k_i,\\dots,k_j\\}=max\\{k_i,\\dots,k_K\\} &\n",
        "  \\end{cases} \\\\\n",
        "$$\n",
        "\n",
        "1. 学習データ\n",
        "$$\n",
        "x_i = (x_{i1},x_{i2},\\dots,x_{im}) \\in \\mathbb{R}^m\n",
        "$$\n",
        "2. 所属するクラス\n",
        "$$\n",
        "\\Omega=\\{C_1,C_2,\\dots,C_K\\}\n",
        "$$\n",
        "3. i番目のデータが所属するクラス\n",
        "$$\n",
        "w_i\\in\\Omega\n",
        "$$\n",
        "4. 入力にもっとも近いk個のデータ集合\n",
        "$$\n",
        "k(x)=\\{x_{i1},x_{i2},\\dots,x_{im}\\}\n",
        "$$\n",
        "5. 4の中でクラスjに属するデータの数\n",
        "$$\n",
        "k_j\n",
        "$$"
      ]
    },
    {
      "cell_type": "markdown",
      "metadata": {
        "id": "_4wGwVoSk2Ui"
      },
      "source": [
        "## 演習"
      ]
    },
    {
      "cell_type": "markdown",
      "metadata": {
        "id": "QCsIqqHDk496"
      },
      "source": [
        "https://colab.research.google.com/github/peta-m175/rabbit_challenge/blob/master/machine_learning/exercises/np_knn.ipynb"
      ]
    },
    {
      "cell_type": "markdown",
      "metadata": {
        "id": "8nHiPnAWgFPj"
      },
      "source": [
        "# k平均法(k-means)"
      ]
    },
    {
      "cell_type": "markdown",
      "metadata": {
        "id": "m4jLPPbnZaCW"
      },
      "source": [
        "1. 各クラスタ中心の初期値を設定する\n",
        "2. 各データ点に対して、各クラスタ中心との距離を計算し、最も距離が近いクラスタを割り当てる\n",
        "3. 各クラスタの平均ベクトル（中心）を計算する\n",
        "4. 収束するまで2, 3の処理を繰り返す"
      ]
    },
    {
      "cell_type": "markdown",
      "metadata": {
        "id": "3VTRwhDzzvpt"
      },
      "source": [
        "1. 学習データ\n",
        "$$\n",
        "x_i=(x_{i1},x_{i2},\\dots,x_{im}) \\in \\mathbb{R}^{m}\n",
        "$$\n",
        "2. 各クラスタの中心\n",
        "$$\n",
        "\\mu_k=\\frac{\\sum_{i=1}^{N}q_{ik}x_i}{\\sum_{i=1}^{N}q_ik}\n",
        "$$\n",
        "3. 所属するクラスタの識別\n",
        "$$\n",
        "q_{ik} =\n",
        "  \\begin{cases}\n",
        "    1 (where x_i \\in M(\\mu_k))\\\\\n",
        "    0 (else) &\n",
        "  \\end{cases} \\\\\n",
        "M=\\{\\mu_1,\\dots,\\mu_K\\}\n",
        "$$\n",
        "4. 各クラスタ内データと中心の距離の総和\n",
        "$$\n",
        "J(q_{ik},\\mu+k)=\\sum_{i=1}^{N}\\sum_{k=1}^{K}q_{ik}||x_i = \\mu+k ||^{2}\n",
        "$$\n",
        "5. 4中心を変化させたときの4の変化量\n",
        "$$\n",
        "\\frac{\\partial J(q_{ik},\\mu_k)}{\\partial\\mu_k}=2\\sum_{i=1}^{N}q_{ik}(x_i-\\mu_k)=0\n",
        "$$"
      ]
    },
    {
      "cell_type": "markdown",
      "metadata": {
        "id": "59vbVcFkg3xj"
      },
      "source": [
        "## 演習"
      ]
    },
    {
      "cell_type": "markdown",
      "metadata": {
        "id": "DDCRSGmhlBb6"
      },
      "source": [
        "https://colab.research.google.com/github/peta-m175/rabbit_challenge/blob/master/machine_learning/exercises/np_kmeans.ipynb"
      ]
    }
  ]
}